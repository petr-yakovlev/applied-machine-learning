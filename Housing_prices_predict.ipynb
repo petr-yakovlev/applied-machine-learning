{
 "cells": [
  {
   "cell_type": "code",
   "execution_count": 2,
   "metadata": {},
   "outputs": [
    {
     "ename": "KeyboardInterrupt",
     "evalue": "",
     "output_type": "error",
     "traceback": [
      "\u001b[1;31m---------------------------------------------------------------------------\u001b[0m",
      "\u001b[1;31mKeyboardInterrupt\u001b[0m                         Traceback (most recent call last)",
      "\u001b[1;32m~\\AppData\\Local\\Temp/ipykernel_5556/1904226525.py\u001b[0m in \u001b[0;36m<module>\u001b[1;34m\u001b[0m\n\u001b[0;32m      1\u001b[0m \u001b[1;32mimport\u001b[0m \u001b[0mnumpy\u001b[0m \u001b[1;32mas\u001b[0m \u001b[0mnp\u001b[0m\u001b[1;33m\u001b[0m\u001b[1;33m\u001b[0m\u001b[0m\n\u001b[0;32m      2\u001b[0m \u001b[1;32mimport\u001b[0m \u001b[0mpandas\u001b[0m \u001b[1;32mas\u001b[0m \u001b[0mpd\u001b[0m\u001b[1;33m\u001b[0m\u001b[1;33m\u001b[0m\u001b[0m\n\u001b[1;32m----> 3\u001b[1;33m \u001b[1;32mimport\u001b[0m \u001b[0mseaborn\u001b[0m \u001b[1;32mas\u001b[0m \u001b[0msns\u001b[0m\u001b[1;33m\u001b[0m\u001b[1;33m\u001b[0m\u001b[0m\n\u001b[0m\u001b[0;32m      4\u001b[0m \u001b[1;32mimport\u001b[0m \u001b[0mmatplotlib\u001b[0m\u001b[1;33m.\u001b[0m\u001b[0mpyplot\u001b[0m \u001b[1;32mas\u001b[0m \u001b[0mplt\u001b[0m\u001b[1;33m\u001b[0m\u001b[1;33m\u001b[0m\u001b[0m\n\u001b[0;32m      5\u001b[0m \u001b[1;32mfrom\u001b[0m \u001b[0msklearn\u001b[0m\u001b[1;33m.\u001b[0m\u001b[0mpreprocessing\u001b[0m \u001b[1;32mimport\u001b[0m \u001b[0mStandardScaler\u001b[0m\u001b[1;33m\u001b[0m\u001b[1;33m\u001b[0m\u001b[0m\n",
      "\u001b[1;32m~\\anaconda3\\lib\\site-packages\\seaborn\\__init__.py\u001b[0m in \u001b[0;36m<module>\u001b[1;34m\u001b[0m\n\u001b[0;32m      4\u001b[0m \u001b[1;32mfrom\u001b[0m \u001b[1;33m.\u001b[0m\u001b[0mpalettes\u001b[0m \u001b[1;32mimport\u001b[0m \u001b[1;33m*\u001b[0m  \u001b[1;31m# noqa: F401,F403\u001b[0m\u001b[1;33m\u001b[0m\u001b[1;33m\u001b[0m\u001b[0m\n\u001b[0;32m      5\u001b[0m \u001b[1;32mfrom\u001b[0m \u001b[1;33m.\u001b[0m\u001b[0mrelational\u001b[0m \u001b[1;32mimport\u001b[0m \u001b[1;33m*\u001b[0m  \u001b[1;31m# noqa: F401,F403\u001b[0m\u001b[1;33m\u001b[0m\u001b[1;33m\u001b[0m\u001b[0m\n\u001b[1;32m----> 6\u001b[1;33m \u001b[1;32mfrom\u001b[0m \u001b[1;33m.\u001b[0m\u001b[0mregression\u001b[0m \u001b[1;32mimport\u001b[0m \u001b[1;33m*\u001b[0m  \u001b[1;31m# noqa: F401,F403\u001b[0m\u001b[1;33m\u001b[0m\u001b[1;33m\u001b[0m\u001b[0m\n\u001b[0m\u001b[0;32m      7\u001b[0m \u001b[1;32mfrom\u001b[0m \u001b[1;33m.\u001b[0m\u001b[0mcategorical\u001b[0m \u001b[1;32mimport\u001b[0m \u001b[1;33m*\u001b[0m  \u001b[1;31m# noqa: F401,F403\u001b[0m\u001b[1;33m\u001b[0m\u001b[1;33m\u001b[0m\u001b[0m\n\u001b[0;32m      8\u001b[0m \u001b[1;32mfrom\u001b[0m \u001b[1;33m.\u001b[0m\u001b[0mdistributions\u001b[0m \u001b[1;32mimport\u001b[0m \u001b[1;33m*\u001b[0m  \u001b[1;31m# noqa: F401,F403\u001b[0m\u001b[1;33m\u001b[0m\u001b[1;33m\u001b[0m\u001b[0m\n",
      "\u001b[1;32m~\\anaconda3\\lib\\site-packages\\seaborn\\regression.py\u001b[0m in \u001b[0;36m<module>\u001b[1;34m\u001b[0m\n\u001b[0;32m     10\u001b[0m \u001b[1;33m\u001b[0m\u001b[0m\n\u001b[0;32m     11\u001b[0m \u001b[1;32mtry\u001b[0m\u001b[1;33m:\u001b[0m\u001b[1;33m\u001b[0m\u001b[1;33m\u001b[0m\u001b[0m\n\u001b[1;32m---> 12\u001b[1;33m     \u001b[1;32mimport\u001b[0m \u001b[0mstatsmodels\u001b[0m\u001b[1;33m\u001b[0m\u001b[1;33m\u001b[0m\u001b[0m\n\u001b[0m\u001b[0;32m     13\u001b[0m     \u001b[1;32massert\u001b[0m \u001b[0mstatsmodels\u001b[0m\u001b[1;33m\u001b[0m\u001b[1;33m\u001b[0m\u001b[0m\n\u001b[0;32m     14\u001b[0m     \u001b[0m_has_statsmodels\u001b[0m \u001b[1;33m=\u001b[0m \u001b[1;32mTrue\u001b[0m\u001b[1;33m\u001b[0m\u001b[1;33m\u001b[0m\u001b[0m\n",
      "\u001b[1;32m~\\anaconda3\\lib\\importlib\\_bootstrap.py\u001b[0m in \u001b[0;36m_find_and_load\u001b[1;34m(name, import_)\u001b[0m\n",
      "\u001b[1;32m~\\anaconda3\\lib\\importlib\\_bootstrap.py\u001b[0m in \u001b[0;36m_find_and_load_unlocked\u001b[1;34m(name, import_)\u001b[0m\n",
      "\u001b[1;32m~\\anaconda3\\lib\\importlib\\_bootstrap.py\u001b[0m in \u001b[0;36m_find_spec\u001b[1;34m(name, path, target)\u001b[0m\n",
      "\u001b[1;32m~\\anaconda3\\lib\\importlib\\_bootstrap_external.py\u001b[0m in \u001b[0;36mfind_spec\u001b[1;34m(cls, fullname, path, target)\u001b[0m\n",
      "\u001b[1;32m~\\anaconda3\\lib\\importlib\\_bootstrap_external.py\u001b[0m in \u001b[0;36m_get_spec\u001b[1;34m(cls, fullname, path, target)\u001b[0m\n",
      "\u001b[1;32m~\\anaconda3\\lib\\importlib\\_bootstrap_external.py\u001b[0m in \u001b[0;36mfind_spec\u001b[1;34m(self, fullname, target)\u001b[0m\n",
      "\u001b[1;32m~\\anaconda3\\lib\\importlib\\_bootstrap_external.py\u001b[0m in \u001b[0;36m_path_isfile\u001b[1;34m(path)\u001b[0m\n",
      "\u001b[1;32m~\\anaconda3\\lib\\importlib\\_bootstrap_external.py\u001b[0m in \u001b[0;36m_path_is_mode_type\u001b[1;34m(path, mode)\u001b[0m\n",
      "\u001b[1;32m~\\anaconda3\\lib\\importlib\\_bootstrap_external.py\u001b[0m in \u001b[0;36m_path_stat\u001b[1;34m(path)\u001b[0m\n",
      "\u001b[1;31mKeyboardInterrupt\u001b[0m: "
     ]
    }
   ],
   "source": [
    "import numpy as np\n",
    "import pandas as pd\n",
    "import seaborn as sns\n",
    "import matplotlib.pyplot as plt\n",
    "from sklearn.preprocessing import StandardScaler\n",
    "from sklearn.metrics import mean_squared_error, r2_score\n",
    "from sklearn.metrics import mean_absolute_error, mean_squared_error\n",
    "from sklearn.model_selection import train_test_split, cross_validate\n",
    "from sklearn.linear_model import  Ridge, LinearRegression, SGDRegressor, Lasso, ElasticNet\n",
    "import matplotlib.gridspec as gridspec\n",
    "import missingno as msno #checking for missing values\n",
    "from statsmodels.stats.outliers_influence import variance_inflation_factor"
   ]
  },
  {
   "cell_type": "code",
   "execution_count": 1,
   "metadata": {
    "scrolled": true
   },
   "outputs": [
    {
     "ename": "NameError",
     "evalue": "name 'pd' is not defined",
     "output_type": "error",
     "traceback": [
      "\u001b[1;31m---------------------------------------------------------------------------\u001b[0m",
      "\u001b[1;31mNameError\u001b[0m                                 Traceback (most recent call last)",
      "\u001b[1;32m~\\AppData\\Local\\Temp/ipykernel_5556/4015894930.py\u001b[0m in \u001b[0;36m<module>\u001b[1;34m\u001b[0m\n\u001b[1;32m----> 1\u001b[1;33m \u001b[0mtest_data\u001b[0m \u001b[1;33m=\u001b[0m \u001b[0mpd\u001b[0m\u001b[1;33m.\u001b[0m\u001b[0mread_csv\u001b[0m\u001b[1;33m(\u001b[0m\u001b[1;34mr\"C:\\Users\\peter\\OneDrive\\Документы\\Личные достижения и развитие\\Магистратура\\Applied ML\\HW2\\books_test.csv\"\u001b[0m\u001b[1;33m)\u001b[0m\u001b[1;33m\u001b[0m\u001b[1;33m\u001b[0m\u001b[0m\n\u001b[0m\u001b[0;32m      2\u001b[0m \u001b[0mtrain_data\u001b[0m \u001b[1;33m=\u001b[0m \u001b[0mpd\u001b[0m\u001b[1;33m.\u001b[0m\u001b[0mread_csv\u001b[0m\u001b[1;33m(\u001b[0m\u001b[1;34mr\"C:\\Users\\peter\\OneDrive\\Документы\\Личные достижения и развитие\\Магистратура\\Applied ML\\HW2\\books_train.csv\"\u001b[0m\u001b[1;33m)\u001b[0m\u001b[1;33m\u001b[0m\u001b[1;33m\u001b[0m\u001b[0m\n\u001b[0;32m      3\u001b[0m \u001b[0mtrain_data\u001b[0m\u001b[1;33m.\u001b[0m\u001b[0mhead\u001b[0m\u001b[1;33m(\u001b[0m\u001b[1;33m)\u001b[0m\u001b[1;33m\u001b[0m\u001b[1;33m\u001b[0m\u001b[0m\n",
      "\u001b[1;31mNameError\u001b[0m: name 'pd' is not defined"
     ]
    }
   ],
   "source": [
    "test_data = pd.read_csv(r\"C:\\Users\\peter\\OneDrive\\Документы\\Личные достижения и развитие\\Магистратура\\Scoring models\\Kaggle 1 (housing prices)\\test.csv\")\n",
    "train_data = pd.read_csv(r\"C:\\Users\\peter\\OneDrive\\Документы\\Личные достижения и развитие\\Магистратура\\Scoring models\\Kaggle 1 (housing prices)\\train.csv\")\n",
    "train_data.head()"
   ]
  },
  {
   "cell_type": "code",
   "execution_count": 3,
   "metadata": {},
   "outputs": [],
   "source": [
    "train_data = train_data.drop(['Id'] , axis =1)\n",
    "test_data = test_data.drop(['Id'] , axis =1)\n",
    "\n",
    "#Extracting numerical data\n",
    "train_data_numerical = train_data.select_dtypes(include=['int64', 'float64'])\n",
    "test_data_numerical =  test_data.select_dtypes(include=['int64', 'float64'])"
   ]
  },
  {
   "cell_type": "code",
   "execution_count": 4,
   "metadata": {},
   "outputs": [
    {
     "data": {
      "text/plain": [
       "Room           0\n",
       "Price          0\n",
       "Size           0\n",
       "Floor          0\n",
       "FloorsTotal    0\n",
       "dtype: int64"
      ]
     },
     "execution_count": 4,
     "metadata": {},
     "output_type": "execute_result"
    }
   ],
   "source": [
    "train_data_numerical.isnull().sum()"
   ]
  },
  {
   "cell_type": "code",
   "execution_count": 5,
   "metadata": {},
   "outputs": [
    {
     "data": {
      "text/plain": [
       "Room           0\n",
       "Size           0\n",
       "Floor          0\n",
       "FloorsTotal    0\n",
       "dtype: int64"
      ]
     },
     "execution_count": 5,
     "metadata": {},
     "output_type": "execute_result"
    }
   ],
   "source": [
    "test_data_numerical.isnull().sum()"
   ]
  },
  {
   "cell_type": "code",
   "execution_count": 6,
   "metadata": {},
   "outputs": [
    {
     "data": {
      "text/plain": [
       "279"
      ]
     },
     "execution_count": 6,
     "metadata": {},
     "output_type": "execute_result"
    }
   ],
   "source": [
    "sum(train_data_numerical.duplicated())"
   ]
  },
  {
   "cell_type": "code",
   "execution_count": 7,
   "metadata": {},
   "outputs": [
    {
     "data": {
      "text/plain": [
       "2815"
      ]
     },
     "execution_count": 7,
     "metadata": {},
     "output_type": "execute_result"
    }
   ],
   "source": [
    "sum(test_data_numerical.duplicated())"
   ]
  },
  {
   "cell_type": "code",
   "execution_count": 8,
   "metadata": {},
   "outputs": [
    {
     "data": {
      "image/png": "[encoded data removed]",
      "text/plain": [
       "<Figure size 432x288 with 1 Axes>"
      ]
     },
     "metadata": {
      "needs_background": "light"
     },
     "output_type": "display_data"
    },
    {
     "data": {
      "image/png": "[encoded data removed]",
      "text/plain": [
       "<Figure size 432x288 with 1 Axes>"
      ]
     },
     "metadata": {
      "needs_background": "light"
     },
     "output_type": "display_data"
    },
    {
     "data": {
      "image/png": "[encoded data removed]",
      "text/plain": [
       "<Figure size 432x288 with 1 Axes>"
      ]
     },
     "metadata": {
      "needs_background": "light"
     },
     "output_type": "display_data"
    },
    {
     "data": {
      "image/png": "[encoded data removed]",
      "text/plain": [
       "<Figure size 432x288 with 1 Axes>"
      ]
     },
     "metadata": {
      "needs_background": "light"
     },
     "output_type": "display_data"
    },
    {
     "data": {
      "image/png": "[encoded data removed]",
      "text/plain": [
       "<Figure size 432x288 with 1 Axes>"
      ]
     },
     "metadata": {
      "needs_background": "light"
     },
     "output_type": "display_data"
    }
   ],
   "source": [
    "## Lets analyse the continuous values by creating histograms to understand the distribution\n",
    "\n",
    "for feature in train_data_numerical:\n",
    "    data = train_data_numerical.copy()\n",
    "    data[feature].hist()\n",
    "    plt.xlabel(feature)\n",
    "    plt.ylabel('Count')\n",
    "    plt.show()"
   ]
  },
  {
   "cell_type": "code",
   "execution_count": 9,
   "metadata": {},
   "outputs": [
    {
     "data": {
      "image/png": "[encoded data removed]",
      "text/plain": [
       "<Figure size 432x288 with 1 Axes>"
      ]
     },
     "metadata": {
      "needs_background": "light"
     },
     "output_type": "display_data"
    },
    {
     "data": {
      "image/png": "[encoded data removed]",
      "text/plain": [
       "<Figure size 432x288 with 1 Axes>"
      ]
     },
     "metadata": {
      "needs_background": "light"
     },
     "output_type": "display_data"
    },
    {
     "data": {
      "image/png": "[encoded data removed]",
      "text/plain": [
       "<Figure size 432x288 with 1 Axes>"
      ]
     },
     "metadata": {
      "needs_background": "light"
     },
     "output_type": "display_data"
    },
    {
     "data": {
      "image/png": "[encoded data removed]",
      "text/plain": [
       "<Figure size 432x288 with 1 Axes>"
      ]
     },
     "metadata": {
      "needs_background": "light"
     },
     "output_type": "display_data"
    }
   ],
   "source": [
    "## Here, we observe that some of the features don't follow the gaussian distribution. We can apply log transformation further.\n",
    "## We will be using logarithmic transformation\n",
    "\n",
    "for feature in train_data_numerical:\n",
    "    data = train_data_numerical.copy()\n",
    "    if 0 in data[feature].unique():\n",
    "        pass\n",
    "    else:\n",
    "        data[feature] = np.log(data[feature])\n",
    "        data[feature].hist()\n",
    "        plt.title(feature)\n",
    "        plt.show()"
   ]
  },
  {
   "cell_type": "code",
   "execution_count": 10,
   "metadata": {},
   "outputs": [
    {
     "data": {
      "image/png": "[encoded data removed]",
      "text/plain": [
       "<Figure size 432x288 with 1 Axes>"
      ]
     },
     "metadata": {
      "needs_background": "light"
     },
     "output_type": "display_data"
    },
    {
     "data": {
      "image/png": "[encoded data removed]",
      "text/plain": [
       "<Figure size 432x288 with 1 Axes>"
      ]
     },
     "metadata": {
      "needs_background": "light"
     },
     "output_type": "display_data"
    },
    {
     "data": {
      "image/png": "[encoded data removed]",
      "text/plain": [
       "<Figure size 432x288 with 1 Axes>"
      ]
     },
     "metadata": {
      "needs_background": "light"
     },
     "output_type": "display_data"
    },
    {
     "data": {
      "image/png": "[encoded data removed]",
      "text/plain": [
       "<Figure size 432x288 with 1 Axes>"
      ]
     },
     "metadata": {
      "needs_background": "light"
     },
     "output_type": "display_data"
    }
   ],
   "source": [
    "# let's see the relationship between SalePrice and these continuous variales\n",
    "\n",
    "for feature in train_data_numerical:\n",
    "    data = train_data_numerical.copy()\n",
    "    if 0 in data[feature].unique():\n",
    "        pass\n",
    "    else:\n",
    "        data[feature] = np.log(data[feature])\n",
    "        data['Price'] = np.log(data['Price'])\n",
    "        plt.scatter(data[feature],data['Price'])\n",
    "        plt.title(feature)\n",
    "        plt.show()"
   ]
  },
  {
   "cell_type": "code",
   "execution_count": 11,
   "metadata": {},
   "outputs": [
    {
     "data": {
      "image/png": "[encoded data removed]",
      "text/plain": [
       "<Figure size 432x288 with 1 Axes>"
      ]
     },
     "metadata": {
      "needs_background": "light"
     },
     "output_type": "display_data"
    },
    {
     "data": {
      "image/png": "[encoded data removed]",
      "text/plain": [
       "<Figure size 432x288 with 1 Axes>"
      ]
     },
     "metadata": {
      "needs_background": "light"
     },
     "output_type": "display_data"
    },
    {
     "data": {
      "image/png": "[encoded data removed]",
      "text/plain": [
       "<Figure size 432x288 with 1 Axes>"
      ]
     },
     "metadata": {
      "needs_background": "light"
     },
     "output_type": "display_data"
    },
    {
     "data": {
      "image/png": "[encoded data removed]",
      "text/plain": [
       "<Figure size 432x288 with 1 Axes>"
      ]
     },
     "metadata": {
      "needs_background": "light"
     },
     "output_type": "display_data"
    }
   ],
   "source": [
    "for feature in train_data_numerical:\n",
    "    data= train_data_numerical.copy()\n",
    "    if 0 in data[feature].unique():\n",
    "        pass\n",
    "    else:\n",
    "        data[feature]=np.log(data[feature])\n",
    "        data.boxplot(column=feature)\n",
    "        plt.ylabel(feature)\n",
    "        plt.title(feature)\n",
    "        plt.show()"
   ]
  },
  {
   "cell_type": "code",
   "execution_count": 12,
   "metadata": {},
   "outputs": [],
   "source": [
    "#Extracting categorical  data\n",
    "train_data_categorical = train_data.select_dtypes(include=['object'])\n",
    "test_data_categorical =  test_data.select_dtypes(include=['object'])"
   ]
  },
  {
   "cell_type": "code",
   "execution_count": 13,
   "metadata": {},
   "outputs": [
    {
     "data": {
      "text/html": [
       "<div>\n",
       "<style scoped>\n",
       "    .dataframe tbody tr th:only-of-type {\n",
       "        vertical-align: middle;\n",
       "    }\n",
       "\n",
       "    .dataframe tbody tr th {\n",
       "        vertical-align: top;\n",
       "    }\n",
       "\n",
       "    .dataframe thead th {\n",
       "        text-align: right;\n",
       "    }\n",
       "</style>\n",
       "<table border=\"1\" class=\"dataframe\">\n",
       "  <thead>\n",
       "    <tr style=\"text-align: right;\">\n",
       "      <th></th>\n",
       "      <th>Balcony</th>\n",
       "      <th>Walls</th>\n",
       "      <th>Age</th>\n",
       "      <th>Lift</th>\n",
       "      <th>District</th>\n",
       "      <th>Okrug</th>\n",
       "    </tr>\n",
       "  </thead>\n",
       "  <tbody>\n",
       "    <tr>\n",
       "      <td>0</td>\n",
       "      <td>балкон</td>\n",
       "      <td>NaN</td>\n",
       "      <td>вторичка</td>\n",
       "      <td>NaN</td>\n",
       "      <td>Сокол</td>\n",
       "      <td>САО</td>\n",
       "    </tr>\n",
       "    <tr>\n",
       "      <td>1</td>\n",
       "      <td>NaN</td>\n",
       "      <td>монолитный</td>\n",
       "      <td>вторичка</td>\n",
       "      <td>грузовой</td>\n",
       "      <td>Зюзино</td>\n",
       "      <td>ЮЗАО</td>\n",
       "    </tr>\n",
       "    <tr>\n",
       "      <td>2</td>\n",
       "      <td>балкон</td>\n",
       "      <td>кирпичный</td>\n",
       "      <td>вторичка</td>\n",
       "      <td>пассажирский</td>\n",
       "      <td>Пресненский</td>\n",
       "      <td>ЦАО</td>\n",
       "    </tr>\n",
       "    <tr>\n",
       "      <td>3</td>\n",
       "      <td>NaN</td>\n",
       "      <td>кирпичный</td>\n",
       "      <td>вторичка</td>\n",
       "      <td>NaN</td>\n",
       "      <td>Басманный</td>\n",
       "      <td>ЦАО</td>\n",
       "    </tr>\n",
       "    <tr>\n",
       "      <td>4</td>\n",
       "      <td>NaN</td>\n",
       "      <td>монолитный</td>\n",
       "      <td>вторичка</td>\n",
       "      <td>грузовой</td>\n",
       "      <td>Хорошевский</td>\n",
       "      <td>САО</td>\n",
       "    </tr>\n",
       "  </tbody>\n",
       "</table>\n",
       "</div>"
      ],
      "text/plain": [
       "  Balcony       Walls       Age          Lift     District Okrug\n",
       "0  балкон         NaN  вторичка           NaN        Сокол   САО\n",
       "1     NaN  монолитный  вторичка      грузовой       Зюзино  ЮЗАО\n",
       "2  балкон   кирпичный  вторичка  пассажирский  Пресненский   ЦАО\n",
       "3     NaN   кирпичный  вторичка           NaN    Басманный   ЦАО\n",
       "4     NaN  монолитный  вторичка      грузовой  Хорошевский   САО"
      ]
     },
     "execution_count": 13,
     "metadata": {},
     "output_type": "execute_result"
    }
   ],
   "source": [
    "train_data_categorical.head()"
   ]
  },
  {
   "cell_type": "code",
   "execution_count": 14,
   "metadata": {},
   "outputs": [
    {
     "name": "stdout",
     "output_type": "stream",
     "text": [
      "Balcony: 0.3148% missing values\n",
      "Walls: 0.1453% missing values\n",
      "Age: 0.0134% missing values\n",
      "Lift: 0.2327% missing values\n",
      "District: 0.0088% missing values\n",
      "Okrug: 0.0088% missing values\n"
     ]
    }
   ],
   "source": [
    "## Let us capture all the nan values\n",
    "## First lets handle Categorical features which are missing\n",
    "\n",
    "categorical_features_nan = [feature for feature in train_data_categorical.columns if train_data_categorical[feature].isnull().sum() > 0 and train_data_categorical[feature].dtypes == 'O']\n",
    "\n",
    "\n",
    "for feature in categorical_features_nan:\n",
    "    print(f\"{feature}: {np.round(train_data_categorical[feature].isnull().mean(),4)}% missing values\")"
   ]
  },
  {
   "cell_type": "code",
   "execution_count": 15,
   "metadata": {},
   "outputs": [
    {
     "name": "stdout",
     "output_type": "stream",
     "text": [
      "Balcony: 0.3189% missing values\n",
      "Walls: 0.1486% missing values\n",
      "Age: 0.0143% missing values\n",
      "Lift: 0.2248% missing values\n",
      "District: 0.0096% missing values\n",
      "Okrug: 0.0096% missing values\n"
     ]
    }
   ],
   "source": [
    "## Let us capture all the nan values\n",
    "## First lets handle Categorical features which are missing\n",
    "\n",
    "categorical_features_nan = [feature for feature in test_data_categorical.columns if test_data_categorical[feature].isnull().sum() > 0 and test_data_categorical[feature].dtypes == 'O']\n",
    "\n",
    "\n",
    "for feature in categorical_features_nan:\n",
    "    print(f\"{feature}: {np.round(test_data_categorical[feature].isnull().mean(),4)}% missing values\")"
   ]
  },
  {
   "cell_type": "code",
   "execution_count": 16,
   "metadata": {},
   "outputs": [
    {
     "data": {
      "text/html": [
       "<div>\n",
       "<style scoped>\n",
       "    .dataframe tbody tr th:only-of-type {\n",
       "        vertical-align: middle;\n",
       "    }\n",
       "\n",
       "    .dataframe tbody tr th {\n",
       "        vertical-align: top;\n",
       "    }\n",
       "\n",
       "    .dataframe thead th {\n",
       "        text-align: right;\n",
       "    }\n",
       "</style>\n",
       "<table border=\"1\" class=\"dataframe\">\n",
       "  <thead>\n",
       "    <tr style=\"text-align: right;\">\n",
       "      <th></th>\n",
       "      <th>Room</th>\n",
       "      <th>Price</th>\n",
       "      <th>Size</th>\n",
       "      <th>Balcony</th>\n",
       "      <th>Floor</th>\n",
       "      <th>FloorsTotal</th>\n",
       "      <th>Walls</th>\n",
       "      <th>Age</th>\n",
       "      <th>Lift</th>\n",
       "      <th>District</th>\n",
       "      <th>Okrug</th>\n",
       "    </tr>\n",
       "  </thead>\n",
       "  <tbody>\n",
       "    <tr>\n",
       "      <td>0</td>\n",
       "      <td>5</td>\n",
       "      <td>210020000.0</td>\n",
       "      <td>198</td>\n",
       "      <td>балкон</td>\n",
       "      <td>1</td>\n",
       "      <td>2</td>\n",
       "      <td>NaN</td>\n",
       "      <td>вторичка</td>\n",
       "      <td>NaN</td>\n",
       "      <td>Сокол</td>\n",
       "      <td>САО</td>\n",
       "    </tr>\n",
       "    <tr>\n",
       "      <td>1</td>\n",
       "      <td>2</td>\n",
       "      <td>17630000.0</td>\n",
       "      <td>64</td>\n",
       "      <td>NaN</td>\n",
       "      <td>3</td>\n",
       "      <td>8</td>\n",
       "      <td>монолитный</td>\n",
       "      <td>вторичка</td>\n",
       "      <td>грузовой</td>\n",
       "      <td>Зюзино</td>\n",
       "      <td>ЮЗАО</td>\n",
       "    </tr>\n",
       "    <tr>\n",
       "      <td>2</td>\n",
       "      <td>5</td>\n",
       "      <td>142400000.0</td>\n",
       "      <td>161</td>\n",
       "      <td>балкон</td>\n",
       "      <td>7</td>\n",
       "      <td>7</td>\n",
       "      <td>кирпичный</td>\n",
       "      <td>вторичка</td>\n",
       "      <td>пассажирский</td>\n",
       "      <td>Пресненский</td>\n",
       "      <td>ЦАО</td>\n",
       "    </tr>\n",
       "    <tr>\n",
       "      <td>3</td>\n",
       "      <td>5</td>\n",
       "      <td>142520000.0</td>\n",
       "      <td>265</td>\n",
       "      <td>NaN</td>\n",
       "      <td>5</td>\n",
       "      <td>5</td>\n",
       "      <td>кирпичный</td>\n",
       "      <td>вторичка</td>\n",
       "      <td>NaN</td>\n",
       "      <td>Басманный</td>\n",
       "      <td>ЦАО</td>\n",
       "    </tr>\n",
       "    <tr>\n",
       "      <td>4</td>\n",
       "      <td>3</td>\n",
       "      <td>34070000.0</td>\n",
       "      <td>88</td>\n",
       "      <td>NaN</td>\n",
       "      <td>10</td>\n",
       "      <td>42</td>\n",
       "      <td>монолитный</td>\n",
       "      <td>вторичка</td>\n",
       "      <td>грузовой</td>\n",
       "      <td>Хорошевский</td>\n",
       "      <td>САО</td>\n",
       "    </tr>\n",
       "  </tbody>\n",
       "</table>\n",
       "</div>"
      ],
      "text/plain": [
       "   Room        Price  Size Balcony  Floor  FloorsTotal       Walls       Age  \\\n",
       "0     5  210020000.0   198  балкон      1            2         NaN  вторичка   \n",
       "1     2   17630000.0    64     NaN      3            8  монолитный  вторичка   \n",
       "2     5  142400000.0   161  балкон      7            7   кирпичный  вторичка   \n",
       "3     5  142520000.0   265     NaN      5            5   кирпичный  вторичка   \n",
       "4     3   34070000.0    88     NaN     10           42  монолитный  вторичка   \n",
       "\n",
       "           Lift     District Okrug  \n",
       "0           NaN        Сокол   САО  \n",
       "1      грузовой       Зюзино  ЮЗАО  \n",
       "2  пассажирский  Пресненский   ЦАО  \n",
       "3           NaN    Басманный   ЦАО  \n",
       "4      грузовой  Хорошевский   САО  "
      ]
     },
     "execution_count": 16,
     "metadata": {},
     "output_type": "execute_result"
    }
   ],
   "source": [
    "train_data.head()"
   ]
  },
  {
   "cell_type": "code",
   "execution_count": 17,
   "metadata": {},
   "outputs": [
    {
     "name": "stdout",
     "output_type": "stream",
     "text": [
      "Number of Numerical Features are 5\n"
     ]
    }
   ],
   "source": [
    "numerical_features = [feature for feature in train_data.columns if train_data[feature].dtypes != 'O']\n",
    "print(f'Number of Numerical Features are {len(numerical_features)}')"
   ]
  },
  {
   "cell_type": "code",
   "execution_count": 18,
   "metadata": {},
   "outputs": [
    {
     "name": "stdout",
     "output_type": "stream",
     "text": [
      "Number of Categorical Features are 6\n"
     ]
    }
   ],
   "source": [
    "categorical_features = [feature for feature in train_data.columns if train_data[feature].dtypes == 'O']\n",
    "print(f'Number of Categorical Features are {len(categorical_features)}')"
   ]
  },
  {
   "cell_type": "code",
   "execution_count": 19,
   "metadata": {},
   "outputs": [
    {
     "data": {
      "text/plain": [
       "лоджия    16317\n",
       "балкон    11441\n",
       "Name: Balcony, dtype: int64"
      ]
     },
     "execution_count": 19,
     "metadata": {},
     "output_type": "execute_result"
    }
   ],
   "source": [
    "train_data['Balcony'].value_counts()"
   ]
  },
  {
   "cell_type": "code",
   "execution_count": 20,
   "metadata": {},
   "outputs": [
    {
     "data": {
      "text/plain": [
       "12750"
      ]
     },
     "execution_count": 20,
     "metadata": {},
     "output_type": "execute_result"
    }
   ],
   "source": [
    "train_data['Balcony'].isnull().sum()"
   ]
  },
  {
   "cell_type": "code",
   "execution_count": 21,
   "metadata": {},
   "outputs": [
    {
     "data": {
      "text/plain": [
       "лоджия       16317\n",
       "NoBalcony    12750\n",
       "балкон       11441\n",
       "Name: Balcony, dtype: int64"
      ]
     },
     "execution_count": 21,
     "metadata": {},
     "output_type": "execute_result"
    }
   ],
   "source": [
    "train_data['Balcony'] = train_data['Balcony'].fillna('NoBalcony')\n",
    "train_data['Balcony'].value_counts()"
   ]
  },
  {
   "cell_type": "code",
   "execution_count": 22,
   "metadata": {},
   "outputs": [
    {
     "data": {
      "text/plain": [
       "лоджия       4081\n",
       "NoBalcony    3229\n",
       "балкон       2817\n",
       "Name: Balcony, dtype: int64"
      ]
     },
     "execution_count": 22,
     "metadata": {},
     "output_type": "execute_result"
    }
   ],
   "source": [
    "test_data['Balcony'] = test_data['Balcony'].fillna('NoBalcony')\n",
    "test_data['Balcony'].value_counts()"
   ]
  },
  {
   "cell_type": "code",
   "execution_count": 23,
   "metadata": {},
   "outputs": [
    {
     "data": {
      "text/plain": [
       "панельный дом          12853\n",
       "монолитный             10211\n",
       "кирпичный               6684\n",
       "Missing                 5885\n",
       "кирпично-монолитный     2816\n",
       "блочный                 2059\n",
       "Name: Walls, dtype: int64"
      ]
     },
     "execution_count": 23,
     "metadata": {},
     "output_type": "execute_result"
    }
   ],
   "source": [
    "train_data['Walls'] = train_data['Walls'].fillna('Missing')\n",
    "train_data['Walls'].value_counts()"
   ]
  },
  {
   "cell_type": "code",
   "execution_count": 24,
   "metadata": {},
   "outputs": [
    {
     "data": {
      "text/plain": [
       "панельный дом          3233\n",
       "монолитный             2486\n",
       "кирпичный              1639\n",
       "Missing                1505\n",
       "кирпично-монолитный     730\n",
       "блочный                 534\n",
       "Name: Walls, dtype: int64"
      ]
     },
     "execution_count": 24,
     "metadata": {},
     "output_type": "execute_result"
    }
   ],
   "source": [
    "test_data['Walls'] = test_data['Walls'].fillna('Missing')\n",
    "test_data['Walls'].value_counts()"
   ]
  },
  {
   "cell_type": "code",
   "execution_count": 25,
   "metadata": {},
   "outputs": [
    {
     "data": {
      "text/plain": [
       "вторичка       33072\n",
       "новостройка     6895\n",
       "Name: Age, dtype: int64"
      ]
     },
     "execution_count": 25,
     "metadata": {},
     "output_type": "execute_result"
    }
   ],
   "source": [
    "train_data['Age'].value_counts()"
   ]
  },
  {
   "cell_type": "code",
   "execution_count": 26,
   "metadata": {},
   "outputs": [
    {
     "data": {
      "text/plain": [
       "вторичка       8282\n",
       "новостройка    1700\n",
       "Name: Age, dtype: int64"
      ]
     },
     "execution_count": 26,
     "metadata": {},
     "output_type": "execute_result"
    }
   ],
   "source": [
    "test_data['Age'].value_counts()"
   ]
  },
  {
   "cell_type": "code",
   "execution_count": 27,
   "metadata": {},
   "outputs": [
    {
     "data": {
      "text/plain": [
       "грузовой        19545\n",
       "пассажирский    11537\n",
       "NoLift           9426\n",
       "Name: Lift, dtype: int64"
      ]
     },
     "execution_count": 27,
     "metadata": {},
     "output_type": "execute_result"
    }
   ],
   "source": [
    "train_data['Lift'] = train_data['Lift'].fillna('NoLift')\n",
    "train_data['Lift'].value_counts()"
   ]
  },
  {
   "cell_type": "code",
   "execution_count": 28,
   "metadata": {},
   "outputs": [
    {
     "data": {
      "text/plain": [
       "грузовой        4878\n",
       "пассажирский    2972\n",
       "NoLift          2277\n",
       "Name: Lift, dtype: int64"
      ]
     },
     "execution_count": 28,
     "metadata": {},
     "output_type": "execute_result"
    }
   ],
   "source": [
    "test_data['Lift'] = test_data['Lift'].fillna('NoLift')\n",
    "test_data['Lift'].value_counts()"
   ]
  },
  {
   "cell_type": "code",
   "execution_count": 29,
   "metadata": {},
   "outputs": [
    {
     "data": {
      "text/plain": [
       "Раменки              1487\n",
       "Пресненский          1391\n",
       "Хамовники            1137\n",
       "Хорошёво-Мневники    1100\n",
       "Некрасовка            976\n",
       "                     ... \n",
       "Метрогородок           67\n",
       "Восточный              30\n",
       "Молжаниновский         29\n",
       "Капотня                17\n",
       "Внуково                 6\n",
       "Name: District, Length: 120, dtype: int64"
      ]
     },
     "execution_count": 29,
     "metadata": {},
     "output_type": "execute_result"
    }
   ],
   "source": [
    "train_data['District'].value_counts()"
   ]
  },
  {
   "cell_type": "code",
   "execution_count": 30,
   "metadata": {},
   "outputs": [
    {
     "data": {
      "text/plain": [
       "357"
      ]
     },
     "execution_count": 30,
     "metadata": {},
     "output_type": "execute_result"
    }
   ],
   "source": [
    "train_data['District'].isnull().sum()"
   ]
  },
  {
   "cell_type": "code",
   "execution_count": 31,
   "metadata": {},
   "outputs": [
    {
     "data": {
      "text/plain": [
       "Раменки              1487\n",
       "Пресненский          1391\n",
       "Хамовники            1137\n",
       "Хорошёво-Мневники    1100\n",
       "Некрасовка            976\n",
       "                     ... \n",
       "Метрогородок           67\n",
       "Восточный              30\n",
       "Молжаниновский         29\n",
       "Капотня                17\n",
       "Внуково                 6\n",
       "Name: District, Length: 121, dtype: int64"
      ]
     },
     "execution_count": 31,
     "metadata": {},
     "output_type": "execute_result"
    }
   ],
   "source": [
    "train_data['District'] = train_data['District'].fillna('Missing')\n",
    "train_data['District'].value_counts()"
   ]
  },
  {
   "cell_type": "code",
   "execution_count": 32,
   "metadata": {},
   "outputs": [
    {
     "data": {
      "text/plain": [
       "0"
      ]
     },
     "execution_count": 32,
     "metadata": {},
     "output_type": "execute_result"
    }
   ],
   "source": [
    "train_data['District'].isnull().sum()"
   ]
  },
  {
   "cell_type": "code",
   "execution_count": 33,
   "metadata": {},
   "outputs": [
    {
     "data": {
      "text/plain": [
       "Пресненский          334\n",
       "Раменки              332\n",
       "Хорошёво-Мневники    290\n",
       "Хамовники            268\n",
       "Тверской             246\n",
       "                    ... \n",
       "Северный              19\n",
       "Метрогородок          14\n",
       "Капотня                6\n",
       "Восточный              4\n",
       "Молжаниновский         2\n",
       "Name: District, Length: 120, dtype: int64"
      ]
     },
     "execution_count": 33,
     "metadata": {},
     "output_type": "execute_result"
    }
   ],
   "source": [
    "test_data['District'] = test_data['District'].fillna('Missing')\n",
    "test_data['District'].value_counts()"
   ]
  },
  {
   "cell_type": "code",
   "execution_count": 34,
   "metadata": {},
   "outputs": [
    {
     "data": {
      "text/plain": [
       "ЦАО     5854\n",
       "ЗАО     4953\n",
       "САО     4413\n",
       "ЮЗАО    4287\n",
       "СВАО    4258\n",
       "ЮАО     4222\n",
       "ЮВАО    4172\n",
       "ВАО     4036\n",
       "СЗАО    3956\n",
       "Name: Okrug, dtype: int64"
      ]
     },
     "execution_count": 34,
     "metadata": {},
     "output_type": "execute_result"
    }
   ],
   "source": [
    "train_data['Okrug'].value_counts()"
   ]
  },
  {
   "cell_type": "code",
   "execution_count": 35,
   "metadata": {},
   "outputs": [
    {
     "data": {
      "text/plain": [
       "357"
      ]
     },
     "execution_count": 35,
     "metadata": {},
     "output_type": "execute_result"
    }
   ],
   "source": [
    "train_data['Okrug'].isnull().sum()"
   ]
  },
  {
   "cell_type": "code",
   "execution_count": 36,
   "metadata": {},
   "outputs": [
    {
     "data": {
      "text/plain": [
       "ЦАО        1511\n",
       "ЗАО        1197\n",
       "САО        1141\n",
       "ЮЗАО       1106\n",
       "СВАО       1064\n",
       "ЮВАО       1048\n",
       "ВАО         997\n",
       "СЗАО        989\n",
       "ЮАО         977\n",
       "Missing      97\n",
       "Name: Okrug, dtype: int64"
      ]
     },
     "execution_count": 36,
     "metadata": {},
     "output_type": "execute_result"
    }
   ],
   "source": [
    "test_data['Okrug'] = test_data['Okrug'].fillna('Missing')\n",
    "test_data['Okrug'].value_counts()"
   ]
  },
  {
   "cell_type": "code",
   "execution_count": 37,
   "metadata": {},
   "outputs": [
    {
     "data": {
      "text/plain": [
       "ЦАО        5854\n",
       "ЗАО        4953\n",
       "САО        4413\n",
       "ЮЗАО       4287\n",
       "СВАО       4258\n",
       "ЮАО        4222\n",
       "ЮВАО       4172\n",
       "ВАО        4036\n",
       "СЗАО       3956\n",
       "Missing     357\n",
       "Name: Okrug, dtype: int64"
      ]
     },
     "execution_count": 37,
     "metadata": {},
     "output_type": "execute_result"
    }
   ],
   "source": [
    "train_data['Okrug'] = train_data['Okrug'].fillna('Missing')\n",
    "train_data['Okrug'].value_counts()"
   ]
  },
  {
   "cell_type": "code",
   "execution_count": 38,
   "metadata": {
    "scrolled": true
   },
   "outputs": [
    {
     "data": {
      "text/html": [
       "<div>\n",
       "<style scoped>\n",
       "    .dataframe tbody tr th:only-of-type {\n",
       "        vertical-align: middle;\n",
       "    }\n",
       "\n",
       "    .dataframe tbody tr th {\n",
       "        vertical-align: top;\n",
       "    }\n",
       "\n",
       "    .dataframe thead th {\n",
       "        text-align: right;\n",
       "    }\n",
       "</style>\n",
       "<table border=\"1\" class=\"dataframe\">\n",
       "  <thead>\n",
       "    <tr style=\"text-align: right;\">\n",
       "      <th></th>\n",
       "      <th>Room</th>\n",
       "      <th>Price</th>\n",
       "      <th>Size</th>\n",
       "      <th>Balcony</th>\n",
       "      <th>Floor</th>\n",
       "      <th>FloorsTotal</th>\n",
       "      <th>Walls</th>\n",
       "      <th>Age</th>\n",
       "      <th>Lift</th>\n",
       "      <th>District</th>\n",
       "      <th>Okrug</th>\n",
       "    </tr>\n",
       "  </thead>\n",
       "  <tbody>\n",
       "    <tr>\n",
       "      <td>0</td>\n",
       "      <td>5</td>\n",
       "      <td>210020000.0</td>\n",
       "      <td>198</td>\n",
       "      <td>балкон</td>\n",
       "      <td>1</td>\n",
       "      <td>2</td>\n",
       "      <td>Missing</td>\n",
       "      <td>вторичка</td>\n",
       "      <td>NoLift</td>\n",
       "      <td>Сокол</td>\n",
       "      <td>САО</td>\n",
       "    </tr>\n",
       "    <tr>\n",
       "      <td>1</td>\n",
       "      <td>2</td>\n",
       "      <td>17630000.0</td>\n",
       "      <td>64</td>\n",
       "      <td>NoBalcony</td>\n",
       "      <td>3</td>\n",
       "      <td>8</td>\n",
       "      <td>монолитный</td>\n",
       "      <td>вторичка</td>\n",
       "      <td>грузовой</td>\n",
       "      <td>Зюзино</td>\n",
       "      <td>ЮЗАО</td>\n",
       "    </tr>\n",
       "    <tr>\n",
       "      <td>2</td>\n",
       "      <td>5</td>\n",
       "      <td>142400000.0</td>\n",
       "      <td>161</td>\n",
       "      <td>балкон</td>\n",
       "      <td>7</td>\n",
       "      <td>7</td>\n",
       "      <td>кирпичный</td>\n",
       "      <td>вторичка</td>\n",
       "      <td>пассажирский</td>\n",
       "      <td>Пресненский</td>\n",
       "      <td>ЦАО</td>\n",
       "    </tr>\n",
       "    <tr>\n",
       "      <td>3</td>\n",
       "      <td>5</td>\n",
       "      <td>142520000.0</td>\n",
       "      <td>265</td>\n",
       "      <td>NoBalcony</td>\n",
       "      <td>5</td>\n",
       "      <td>5</td>\n",
       "      <td>кирпичный</td>\n",
       "      <td>вторичка</td>\n",
       "      <td>NoLift</td>\n",
       "      <td>Басманный</td>\n",
       "      <td>ЦАО</td>\n",
       "    </tr>\n",
       "    <tr>\n",
       "      <td>4</td>\n",
       "      <td>3</td>\n",
       "      <td>34070000.0</td>\n",
       "      <td>88</td>\n",
       "      <td>NoBalcony</td>\n",
       "      <td>10</td>\n",
       "      <td>42</td>\n",
       "      <td>монолитный</td>\n",
       "      <td>вторичка</td>\n",
       "      <td>грузовой</td>\n",
       "      <td>Хорошевский</td>\n",
       "      <td>САО</td>\n",
       "    </tr>\n",
       "  </tbody>\n",
       "</table>\n",
       "</div>"
      ],
      "text/plain": [
       "   Room        Price  Size    Balcony  Floor  FloorsTotal       Walls  \\\n",
       "0     5  210020000.0   198     балкон      1            2     Missing   \n",
       "1     2   17630000.0    64  NoBalcony      3            8  монолитный   \n",
       "2     5  142400000.0   161     балкон      7            7   кирпичный   \n",
       "3     5  142520000.0   265  NoBalcony      5            5   кирпичный   \n",
       "4     3   34070000.0    88  NoBalcony     10           42  монолитный   \n",
       "\n",
       "        Age          Lift     District Okrug  \n",
       "0  вторичка        NoLift        Сокол   САО  \n",
       "1  вторичка      грузовой       Зюзино  ЮЗАО  \n",
       "2  вторичка  пассажирский  Пресненский   ЦАО  \n",
       "3  вторичка        NoLift    Басманный   ЦАО  \n",
       "4  вторичка      грузовой  Хорошевский   САО  "
      ]
     },
     "execution_count": 38,
     "metadata": {},
     "output_type": "execute_result"
    }
   ],
   "source": [
    "train_data.head()"
   ]
  },
  {
   "cell_type": "code",
   "execution_count": 39,
   "metadata": {},
   "outputs": [
    {
     "data": {
      "text/html": [
       "<div>\n",
       "<style scoped>\n",
       "    .dataframe tbody tr th:only-of-type {\n",
       "        vertical-align: middle;\n",
       "    }\n",
       "\n",
       "    .dataframe tbody tr th {\n",
       "        vertical-align: top;\n",
       "    }\n",
       "\n",
       "    .dataframe thead th {\n",
       "        text-align: right;\n",
       "    }\n",
       "</style>\n",
       "<table border=\"1\" class=\"dataframe\">\n",
       "  <thead>\n",
       "    <tr style=\"text-align: right;\">\n",
       "      <th></th>\n",
       "      <th>Room</th>\n",
       "      <th>Size</th>\n",
       "      <th>Balcony</th>\n",
       "      <th>Floor</th>\n",
       "      <th>FloorsTotal</th>\n",
       "      <th>Walls</th>\n",
       "      <th>Age</th>\n",
       "      <th>Lift</th>\n",
       "      <th>District</th>\n",
       "      <th>Okrug</th>\n",
       "    </tr>\n",
       "  </thead>\n",
       "  <tbody>\n",
       "    <tr>\n",
       "      <td>0</td>\n",
       "      <td>2</td>\n",
       "      <td>58</td>\n",
       "      <td>NoBalcony</td>\n",
       "      <td>2</td>\n",
       "      <td>5</td>\n",
       "      <td>Missing</td>\n",
       "      <td>вторичка</td>\n",
       "      <td>NoLift</td>\n",
       "      <td>Богородский</td>\n",
       "      <td>ВАО</td>\n",
       "    </tr>\n",
       "    <tr>\n",
       "      <td>1</td>\n",
       "      <td>5</td>\n",
       "      <td>266</td>\n",
       "      <td>лоджия</td>\n",
       "      <td>3</td>\n",
       "      <td>14</td>\n",
       "      <td>Missing</td>\n",
       "      <td>вторичка</td>\n",
       "      <td>грузовой</td>\n",
       "      <td>Мещанский</td>\n",
       "      <td>ЦАО</td>\n",
       "    </tr>\n",
       "    <tr>\n",
       "      <td>2</td>\n",
       "      <td>5</td>\n",
       "      <td>197</td>\n",
       "      <td>лоджия</td>\n",
       "      <td>5</td>\n",
       "      <td>9</td>\n",
       "      <td>Missing</td>\n",
       "      <td>вторичка</td>\n",
       "      <td>грузовой</td>\n",
       "      <td>Басманный</td>\n",
       "      <td>ЦАО</td>\n",
       "    </tr>\n",
       "    <tr>\n",
       "      <td>3</td>\n",
       "      <td>5</td>\n",
       "      <td>233</td>\n",
       "      <td>лоджия</td>\n",
       "      <td>3</td>\n",
       "      <td>14</td>\n",
       "      <td>Missing</td>\n",
       "      <td>вторичка</td>\n",
       "      <td>грузовой</td>\n",
       "      <td>Мещанский</td>\n",
       "      <td>ЦАО</td>\n",
       "    </tr>\n",
       "    <tr>\n",
       "      <td>4</td>\n",
       "      <td>2</td>\n",
       "      <td>69</td>\n",
       "      <td>NoBalcony</td>\n",
       "      <td>2</td>\n",
       "      <td>6</td>\n",
       "      <td>Missing</td>\n",
       "      <td>вторичка</td>\n",
       "      <td>пассажирский</td>\n",
       "      <td>Красносельский</td>\n",
       "      <td>ЦАО</td>\n",
       "    </tr>\n",
       "  </tbody>\n",
       "</table>\n",
       "</div>"
      ],
      "text/plain": [
       "   Room  Size    Balcony  Floor  FloorsTotal    Walls       Age          Lift  \\\n",
       "0     2    58  NoBalcony      2            5  Missing  вторичка        NoLift   \n",
       "1     5   266     лоджия      3           14  Missing  вторичка      грузовой   \n",
       "2     5   197     лоджия      5            9  Missing  вторичка      грузовой   \n",
       "3     5   233     лоджия      3           14  Missing  вторичка      грузовой   \n",
       "4     2    69  NoBalcony      2            6  Missing  вторичка  пассажирский   \n",
       "\n",
       "         District Okrug  \n",
       "0     Богородский   ВАО  \n",
       "1       Мещанский   ЦАО  \n",
       "2       Басманный   ЦАО  \n",
       "3       Мещанский   ЦАО  \n",
       "4  Красносельский   ЦАО  "
      ]
     },
     "execution_count": 39,
     "metadata": {},
     "output_type": "execute_result"
    }
   ],
   "source": [
    "test_data.head()"
   ]
  },
  {
   "cell_type": "code",
   "execution_count": 40,
   "metadata": {},
   "outputs": [],
   "source": [
    "num_continuous_features_log=['Size', 'FloorsTotal', 'Price']\n",
    "for feature in num_continuous_features_log:\n",
    "    train_data[feature] = np.log(train_data[feature])"
   ]
  },
  {
   "cell_type": "code",
   "execution_count": 41,
   "metadata": {},
   "outputs": [
    {
     "data": {
      "text/html": [
       "<div>\n",
       "<style scoped>\n",
       "    .dataframe tbody tr th:only-of-type {\n",
       "        vertical-align: middle;\n",
       "    }\n",
       "\n",
       "    .dataframe tbody tr th {\n",
       "        vertical-align: top;\n",
       "    }\n",
       "\n",
       "    .dataframe thead th {\n",
       "        text-align: right;\n",
       "    }\n",
       "</style>\n",
       "<table border=\"1\" class=\"dataframe\">\n",
       "  <thead>\n",
       "    <tr style=\"text-align: right;\">\n",
       "      <th></th>\n",
       "      <th>Room</th>\n",
       "      <th>Price</th>\n",
       "      <th>Size</th>\n",
       "      <th>Balcony</th>\n",
       "      <th>Floor</th>\n",
       "      <th>FloorsTotal</th>\n",
       "      <th>Walls</th>\n",
       "      <th>Age</th>\n",
       "      <th>Lift</th>\n",
       "      <th>District</th>\n",
       "      <th>Okrug</th>\n",
       "    </tr>\n",
       "  </thead>\n",
       "  <tbody>\n",
       "    <tr>\n",
       "      <td>0</td>\n",
       "      <td>5</td>\n",
       "      <td>19.162713</td>\n",
       "      <td>5.288267</td>\n",
       "      <td>балкон</td>\n",
       "      <td>1</td>\n",
       "      <td>0.693147</td>\n",
       "      <td>Missing</td>\n",
       "      <td>вторичка</td>\n",
       "      <td>NoLift</td>\n",
       "      <td>Сокол</td>\n",
       "      <td>САО</td>\n",
       "    </tr>\n",
       "    <tr>\n",
       "      <td>1</td>\n",
       "      <td>2</td>\n",
       "      <td>16.685113</td>\n",
       "      <td>4.158883</td>\n",
       "      <td>NoBalcony</td>\n",
       "      <td>3</td>\n",
       "      <td>2.079442</td>\n",
       "      <td>монолитный</td>\n",
       "      <td>вторичка</td>\n",
       "      <td>грузовой</td>\n",
       "      <td>Зюзино</td>\n",
       "      <td>ЮЗАО</td>\n",
       "    </tr>\n",
       "    <tr>\n",
       "      <td>2</td>\n",
       "      <td>5</td>\n",
       "      <td>18.774151</td>\n",
       "      <td>5.081404</td>\n",
       "      <td>балкон</td>\n",
       "      <td>7</td>\n",
       "      <td>1.945910</td>\n",
       "      <td>кирпичный</td>\n",
       "      <td>вторичка</td>\n",
       "      <td>пассажирский</td>\n",
       "      <td>Пресненский</td>\n",
       "      <td>ЦАО</td>\n",
       "    </tr>\n",
       "    <tr>\n",
       "      <td>3</td>\n",
       "      <td>5</td>\n",
       "      <td>18.774993</td>\n",
       "      <td>5.579730</td>\n",
       "      <td>NoBalcony</td>\n",
       "      <td>5</td>\n",
       "      <td>1.609438</td>\n",
       "      <td>кирпичный</td>\n",
       "      <td>вторичка</td>\n",
       "      <td>NoLift</td>\n",
       "      <td>Басманный</td>\n",
       "      <td>ЦАО</td>\n",
       "    </tr>\n",
       "    <tr>\n",
       "      <td>4</td>\n",
       "      <td>3</td>\n",
       "      <td>17.343928</td>\n",
       "      <td>4.477337</td>\n",
       "      <td>NoBalcony</td>\n",
       "      <td>10</td>\n",
       "      <td>3.737670</td>\n",
       "      <td>монолитный</td>\n",
       "      <td>вторичка</td>\n",
       "      <td>грузовой</td>\n",
       "      <td>Хорошевский</td>\n",
       "      <td>САО</td>\n",
       "    </tr>\n",
       "  </tbody>\n",
       "</table>\n",
       "</div>"
      ],
      "text/plain": [
       "   Room      Price      Size    Balcony  Floor  FloorsTotal       Walls  \\\n",
       "0     5  19.162713  5.288267     балкон      1     0.693147     Missing   \n",
       "1     2  16.685113  4.158883  NoBalcony      3     2.079442  монолитный   \n",
       "2     5  18.774151  5.081404     балкон      7     1.945910   кирпичный   \n",
       "3     5  18.774993  5.579730  NoBalcony      5     1.609438   кирпичный   \n",
       "4     3  17.343928  4.477337  NoBalcony     10     3.737670  монолитный   \n",
       "\n",
       "        Age          Lift     District Okrug  \n",
       "0  вторичка        NoLift        Сокол   САО  \n",
       "1  вторичка      грузовой       Зюзино  ЮЗАО  \n",
       "2  вторичка  пассажирский  Пресненский   ЦАО  \n",
       "3  вторичка        NoLift    Басманный   ЦАО  \n",
       "4  вторичка      грузовой  Хорошевский   САО  "
      ]
     },
     "execution_count": 41,
     "metadata": {},
     "output_type": "execute_result"
    }
   ],
   "source": [
    "train_data.head()"
   ]
  },
  {
   "cell_type": "code",
   "execution_count": 42,
   "metadata": {},
   "outputs": [
    {
     "data": {
      "text/plain": [
       "2     4569\n",
       "3     3964\n",
       "4     3702\n",
       "5     3489\n",
       "6     2714\n",
       "      ... \n",
       "66       1\n",
       "57       1\n",
       "65       1\n",
       "64       1\n",
       "62       1\n",
       "Name: Floor, Length: 80, dtype: int64"
      ]
     },
     "execution_count": 42,
     "metadata": {},
     "output_type": "execute_result"
    }
   ],
   "source": [
    "train_data['Floor'].value_counts()"
   ]
  },
  {
   "cell_type": "code",
   "execution_count": 43,
   "metadata": {},
   "outputs": [],
   "source": [
    "num_continuous_features_log=['Size', 'FloorsTotal']\n",
    "for feature in num_continuous_features_log:\n",
    "    test_data[feature] = np.log(test_data[feature])"
   ]
  },
  {
   "cell_type": "code",
   "execution_count": 44,
   "metadata": {},
   "outputs": [],
   "source": [
    "test_data['NumofRooms'] = \"1 room\"\n",
    "test_data.loc[test_data['Room'] == 1 , 'NumofRooms'] = \"1 room\"\n",
    "test_data.loc[test_data['Room'] == 2 , 'NumofRooms'] = \"2 rooms\"\n",
    "test_data.loc[test_data['Room'] >= 3 , 'NumofRooms'] = \"3+ rooms\""
   ]
  },
  {
   "cell_type": "code",
   "execution_count": 45,
   "metadata": {},
   "outputs": [
    {
     "data": {
      "text/html": [
       "<div>\n",
       "<style scoped>\n",
       "    .dataframe tbody tr th:only-of-type {\n",
       "        vertical-align: middle;\n",
       "    }\n",
       "\n",
       "    .dataframe tbody tr th {\n",
       "        vertical-align: top;\n",
       "    }\n",
       "\n",
       "    .dataframe thead th {\n",
       "        text-align: right;\n",
       "    }\n",
       "</style>\n",
       "<table border=\"1\" class=\"dataframe\">\n",
       "  <thead>\n",
       "    <tr style=\"text-align: right;\">\n",
       "      <th></th>\n",
       "      <th>Room</th>\n",
       "      <th>Size</th>\n",
       "      <th>Balcony</th>\n",
       "      <th>Floor</th>\n",
       "      <th>FloorsTotal</th>\n",
       "      <th>Walls</th>\n",
       "      <th>Age</th>\n",
       "      <th>Lift</th>\n",
       "      <th>District</th>\n",
       "      <th>Okrug</th>\n",
       "      <th>NumofRooms</th>\n",
       "    </tr>\n",
       "  </thead>\n",
       "  <tbody>\n",
       "    <tr>\n",
       "      <td>0</td>\n",
       "      <td>2</td>\n",
       "      <td>4.060443</td>\n",
       "      <td>NoBalcony</td>\n",
       "      <td>2</td>\n",
       "      <td>1.609438</td>\n",
       "      <td>Missing</td>\n",
       "      <td>вторичка</td>\n",
       "      <td>NoLift</td>\n",
       "      <td>Богородский</td>\n",
       "      <td>ВАО</td>\n",
       "      <td>2 rooms</td>\n",
       "    </tr>\n",
       "    <tr>\n",
       "      <td>1</td>\n",
       "      <td>5</td>\n",
       "      <td>5.583496</td>\n",
       "      <td>лоджия</td>\n",
       "      <td>3</td>\n",
       "      <td>2.639057</td>\n",
       "      <td>Missing</td>\n",
       "      <td>вторичка</td>\n",
       "      <td>грузовой</td>\n",
       "      <td>Мещанский</td>\n",
       "      <td>ЦАО</td>\n",
       "      <td>3+ rooms</td>\n",
       "    </tr>\n",
       "    <tr>\n",
       "      <td>2</td>\n",
       "      <td>5</td>\n",
       "      <td>5.283204</td>\n",
       "      <td>лоджия</td>\n",
       "      <td>5</td>\n",
       "      <td>2.197225</td>\n",
       "      <td>Missing</td>\n",
       "      <td>вторичка</td>\n",
       "      <td>грузовой</td>\n",
       "      <td>Басманный</td>\n",
       "      <td>ЦАО</td>\n",
       "      <td>3+ rooms</td>\n",
       "    </tr>\n",
       "    <tr>\n",
       "      <td>3</td>\n",
       "      <td>5</td>\n",
       "      <td>5.451038</td>\n",
       "      <td>лоджия</td>\n",
       "      <td>3</td>\n",
       "      <td>2.639057</td>\n",
       "      <td>Missing</td>\n",
       "      <td>вторичка</td>\n",
       "      <td>грузовой</td>\n",
       "      <td>Мещанский</td>\n",
       "      <td>ЦАО</td>\n",
       "      <td>3+ rooms</td>\n",
       "    </tr>\n",
       "    <tr>\n",
       "      <td>4</td>\n",
       "      <td>2</td>\n",
       "      <td>4.234107</td>\n",
       "      <td>NoBalcony</td>\n",
       "      <td>2</td>\n",
       "      <td>1.791759</td>\n",
       "      <td>Missing</td>\n",
       "      <td>вторичка</td>\n",
       "      <td>пассажирский</td>\n",
       "      <td>Красносельский</td>\n",
       "      <td>ЦАО</td>\n",
       "      <td>2 rooms</td>\n",
       "    </tr>\n",
       "  </tbody>\n",
       "</table>\n",
       "</div>"
      ],
      "text/plain": [
       "   Room      Size    Balcony  Floor  FloorsTotal    Walls       Age  \\\n",
       "0     2  4.060443  NoBalcony      2     1.609438  Missing  вторичка   \n",
       "1     5  5.583496     лоджия      3     2.639057  Missing  вторичка   \n",
       "2     5  5.283204     лоджия      5     2.197225  Missing  вторичка   \n",
       "3     5  5.451038     лоджия      3     2.639057  Missing  вторичка   \n",
       "4     2  4.234107  NoBalcony      2     1.791759  Missing  вторичка   \n",
       "\n",
       "           Lift        District Okrug NumofRooms  \n",
       "0        NoLift     Богородский   ВАО    2 rooms  \n",
       "1      грузовой       Мещанский   ЦАО   3+ rooms  \n",
       "2      грузовой       Басманный   ЦАО   3+ rooms  \n",
       "3      грузовой       Мещанский   ЦАО   3+ rooms  \n",
       "4  пассажирский  Красносельский   ЦАО    2 rooms  "
      ]
     },
     "execution_count": 45,
     "metadata": {},
     "output_type": "execute_result"
    }
   ],
   "source": [
    "test_data.head()"
   ]
  },
  {
   "cell_type": "code",
   "execution_count": 46,
   "metadata": {},
   "outputs": [],
   "source": [
    "train_data['NumofRooms'] = \"1 room\"\n",
    "train_data.loc[train_data['Room'] == 1 , 'NumofRooms'] = \"1 room\"\n",
    "train_data.loc[train_data['Room'] == 2 , 'NumofRooms'] = \"2 rooms\"\n",
    "train_data.loc[train_data['Room'] >= 3 , 'NumofRooms'] = \"3+ rooms\""
   ]
  },
  {
   "cell_type": "code",
   "execution_count": 47,
   "metadata": {},
   "outputs": [
    {
     "data": {
      "text/html": [
       "<div>\n",
       "<style scoped>\n",
       "    .dataframe tbody tr th:only-of-type {\n",
       "        vertical-align: middle;\n",
       "    }\n",
       "\n",
       "    .dataframe tbody tr th {\n",
       "        vertical-align: top;\n",
       "    }\n",
       "\n",
       "    .dataframe thead th {\n",
       "        text-align: right;\n",
       "    }\n",
       "</style>\n",
       "<table border=\"1\" class=\"dataframe\">\n",
       "  <thead>\n",
       "    <tr style=\"text-align: right;\">\n",
       "      <th></th>\n",
       "      <th>Room</th>\n",
       "      <th>Price</th>\n",
       "      <th>Size</th>\n",
       "      <th>Balcony</th>\n",
       "      <th>Floor</th>\n",
       "      <th>FloorsTotal</th>\n",
       "      <th>Walls</th>\n",
       "      <th>Age</th>\n",
       "      <th>Lift</th>\n",
       "      <th>District</th>\n",
       "      <th>Okrug</th>\n",
       "      <th>NumofRooms</th>\n",
       "    </tr>\n",
       "  </thead>\n",
       "  <tbody>\n",
       "    <tr>\n",
       "      <td>0</td>\n",
       "      <td>5</td>\n",
       "      <td>19.162713</td>\n",
       "      <td>5.288267</td>\n",
       "      <td>балкон</td>\n",
       "      <td>1</td>\n",
       "      <td>0.693147</td>\n",
       "      <td>Missing</td>\n",
       "      <td>вторичка</td>\n",
       "      <td>NoLift</td>\n",
       "      <td>Сокол</td>\n",
       "      <td>САО</td>\n",
       "      <td>3+ rooms</td>\n",
       "    </tr>\n",
       "    <tr>\n",
       "      <td>1</td>\n",
       "      <td>2</td>\n",
       "      <td>16.685113</td>\n",
       "      <td>4.158883</td>\n",
       "      <td>NoBalcony</td>\n",
       "      <td>3</td>\n",
       "      <td>2.079442</td>\n",
       "      <td>монолитный</td>\n",
       "      <td>вторичка</td>\n",
       "      <td>грузовой</td>\n",
       "      <td>Зюзино</td>\n",
       "      <td>ЮЗАО</td>\n",
       "      <td>2 rooms</td>\n",
       "    </tr>\n",
       "    <tr>\n",
       "      <td>2</td>\n",
       "      <td>5</td>\n",
       "      <td>18.774151</td>\n",
       "      <td>5.081404</td>\n",
       "      <td>балкон</td>\n",
       "      <td>7</td>\n",
       "      <td>1.945910</td>\n",
       "      <td>кирпичный</td>\n",
       "      <td>вторичка</td>\n",
       "      <td>пассажирский</td>\n",
       "      <td>Пресненский</td>\n",
       "      <td>ЦАО</td>\n",
       "      <td>3+ rooms</td>\n",
       "    </tr>\n",
       "    <tr>\n",
       "      <td>3</td>\n",
       "      <td>5</td>\n",
       "      <td>18.774993</td>\n",
       "      <td>5.579730</td>\n",
       "      <td>NoBalcony</td>\n",
       "      <td>5</td>\n",
       "      <td>1.609438</td>\n",
       "      <td>кирпичный</td>\n",
       "      <td>вторичка</td>\n",
       "      <td>NoLift</td>\n",
       "      <td>Басманный</td>\n",
       "      <td>ЦАО</td>\n",
       "      <td>3+ rooms</td>\n",
       "    </tr>\n",
       "    <tr>\n",
       "      <td>4</td>\n",
       "      <td>3</td>\n",
       "      <td>17.343928</td>\n",
       "      <td>4.477337</td>\n",
       "      <td>NoBalcony</td>\n",
       "      <td>10</td>\n",
       "      <td>3.737670</td>\n",
       "      <td>монолитный</td>\n",
       "      <td>вторичка</td>\n",
       "      <td>грузовой</td>\n",
       "      <td>Хорошевский</td>\n",
       "      <td>САО</td>\n",
       "      <td>3+ rooms</td>\n",
       "    </tr>\n",
       "  </tbody>\n",
       "</table>\n",
       "</div>"
      ],
      "text/plain": [
       "   Room      Price      Size    Balcony  Floor  FloorsTotal       Walls  \\\n",
       "0     5  19.162713  5.288267     балкон      1     0.693147     Missing   \n",
       "1     2  16.685113  4.158883  NoBalcony      3     2.079442  монолитный   \n",
       "2     5  18.774151  5.081404     балкон      7     1.945910   кирпичный   \n",
       "3     5  18.774993  5.579730  NoBalcony      5     1.609438   кирпичный   \n",
       "4     3  17.343928  4.477337  NoBalcony     10     3.737670  монолитный   \n",
       "\n",
       "        Age          Lift     District Okrug NumofRooms  \n",
       "0  вторичка        NoLift        Сокол   САО   3+ rooms  \n",
       "1  вторичка      грузовой       Зюзино  ЮЗАО    2 rooms  \n",
       "2  вторичка  пассажирский  Пресненский   ЦАО   3+ rooms  \n",
       "3  вторичка        NoLift    Басманный   ЦАО   3+ rooms  \n",
       "4  вторичка      грузовой  Хорошевский   САО   3+ rooms  "
      ]
     },
     "execution_count": 47,
     "metadata": {},
     "output_type": "execute_result"
    }
   ],
   "source": [
    "train_data.head()"
   ]
  },
  {
   "cell_type": "code",
   "execution_count": 48,
   "metadata": {},
   "outputs": [],
   "source": [
    "train_data = train_data.drop(['Room'] , axis =1)"
   ]
  },
  {
   "cell_type": "code",
   "execution_count": 49,
   "metadata": {},
   "outputs": [],
   "source": [
    "test_data = test_data.drop(['Room'] , axis =1)"
   ]
  },
  {
   "cell_type": "code",
   "execution_count": 50,
   "metadata": {},
   "outputs": [
    {
     "name": "stdout",
     "output_type": "stream",
     "text": [
      "Number of Numerical Features are 4\n"
     ]
    }
   ],
   "source": [
    "numerical_features = [feature for feature in train_data.columns if train_data[feature].dtypes != 'O']\n",
    "print(f'Number of Numerical Features are {len(numerical_features)}')"
   ]
  },
  {
   "cell_type": "code",
   "execution_count": 51,
   "metadata": {},
   "outputs": [
    {
     "name": "stdout",
     "output_type": "stream",
     "text": [
      "Number of Categorical Features are 7\n"
     ]
    }
   ],
   "source": [
    "categorical_features = [feature for feature in train_data.columns if train_data[feature].dtypes == 'O']\n",
    "print(f'Number of Categorical Features are {len(categorical_features)}')"
   ]
  },
  {
   "cell_type": "code",
   "execution_count": 52,
   "metadata": {},
   "outputs": [
    {
     "data": {
      "text/plain": [
       "541"
      ]
     },
     "execution_count": 52,
     "metadata": {},
     "output_type": "execute_result"
    }
   ],
   "source": [
    "train_data['Age'].isnull().sum()"
   ]
  },
  {
   "cell_type": "code",
   "execution_count": 53,
   "metadata": {},
   "outputs": [
    {
     "data": {
      "text/plain": [
       "вторичка       33072\n",
       "новостройка     6895\n",
       "Missing          541\n",
       "Name: Age, dtype: int64"
      ]
     },
     "execution_count": 53,
     "metadata": {},
     "output_type": "execute_result"
    }
   ],
   "source": [
    "train_data['Age'] = train_data['Age'].fillna('Missing')\n",
    "train_data['Age'].value_counts()"
   ]
  },
  {
   "cell_type": "code",
   "execution_count": 54,
   "metadata": {},
   "outputs": [
    {
     "data": {
      "text/plain": [
       "вторичка       8282\n",
       "новостройка    1700\n",
       "Missing         145\n",
       "Name: Age, dtype: int64"
      ]
     },
     "execution_count": 54,
     "metadata": {},
     "output_type": "execute_result"
    }
   ],
   "source": [
    "test_data['Age'] = test_data['Age'].fillna('Missing')\n",
    "test_data['Age'].value_counts()"
   ]
  },
  {
   "cell_type": "code",
   "execution_count": 55,
   "metadata": {},
   "outputs": [],
   "source": [
    "# Let's encode the categorical variables\n",
    "## ordinal encoder encoded the values alphabetically e.g Sex(Male and Female) ~ it will be encoded as Sex(0,1) cause F comes first and then M\n",
    "\n",
    "from sklearn.preprocessing import OrdinalEncoder\n",
    "enc = OrdinalEncoder()\n",
    "train_data[categorical_features] = enc.fit_transform(train_data[categorical_features])\n",
    "test_data[categorical_features] = enc.fit_transform(test_data[categorical_features])"
   ]
  },
  {
   "cell_type": "code",
   "execution_count": 56,
   "metadata": {},
   "outputs": [
    {
     "data": {
      "text/html": [
       "<div>\n",
       "<style scoped>\n",
       "    .dataframe tbody tr th:only-of-type {\n",
       "        vertical-align: middle;\n",
       "    }\n",
       "\n",
       "    .dataframe tbody tr th {\n",
       "        vertical-align: top;\n",
       "    }\n",
       "\n",
       "    .dataframe thead th {\n",
       "        text-align: right;\n",
       "    }\n",
       "</style>\n",
       "<table border=\"1\" class=\"dataframe\">\n",
       "  <thead>\n",
       "    <tr style=\"text-align: right;\">\n",
       "      <th></th>\n",
       "      <th>Price</th>\n",
       "      <th>Size</th>\n",
       "      <th>Balcony</th>\n",
       "      <th>Floor</th>\n",
       "      <th>FloorsTotal</th>\n",
       "      <th>Walls</th>\n",
       "      <th>Age</th>\n",
       "      <th>Lift</th>\n",
       "      <th>District</th>\n",
       "      <th>Okrug</th>\n",
       "      <th>NumofRooms</th>\n",
       "    </tr>\n",
       "  </thead>\n",
       "  <tbody>\n",
       "    <tr>\n",
       "      <td>0</td>\n",
       "      <td>19.162713</td>\n",
       "      <td>5.288267</td>\n",
       "      <td>1.0</td>\n",
       "      <td>1</td>\n",
       "      <td>0.693147</td>\n",
       "      <td>0.0</td>\n",
       "      <td>1.0</td>\n",
       "      <td>0.0</td>\n",
       "      <td>92.0</td>\n",
       "      <td>3.0</td>\n",
       "      <td>2.0</td>\n",
       "    </tr>\n",
       "    <tr>\n",
       "      <td>1</td>\n",
       "      <td>16.685113</td>\n",
       "      <td>4.158883</td>\n",
       "      <td>0.0</td>\n",
       "      <td>3</td>\n",
       "      <td>2.079442</td>\n",
       "      <td>4.0</td>\n",
       "      <td>1.0</td>\n",
       "      <td>1.0</td>\n",
       "      <td>31.0</td>\n",
       "      <td>9.0</td>\n",
       "      <td>1.0</td>\n",
       "    </tr>\n",
       "    <tr>\n",
       "      <td>2</td>\n",
       "      <td>18.774151</td>\n",
       "      <td>5.081404</td>\n",
       "      <td>1.0</td>\n",
       "      <td>7</td>\n",
       "      <td>1.945910</td>\n",
       "      <td>3.0</td>\n",
       "      <td>1.0</td>\n",
       "      <td>2.0</td>\n",
       "      <td>78.0</td>\n",
       "      <td>6.0</td>\n",
       "      <td>2.0</td>\n",
       "    </tr>\n",
       "    <tr>\n",
       "      <td>3</td>\n",
       "      <td>18.774993</td>\n",
       "      <td>5.579730</td>\n",
       "      <td>0.0</td>\n",
       "      <td>5</td>\n",
       "      <td>1.609438</td>\n",
       "      <td>3.0</td>\n",
       "      <td>1.0</td>\n",
       "      <td>0.0</td>\n",
       "      <td>7.0</td>\n",
       "      <td>6.0</td>\n",
       "      <td>2.0</td>\n",
       "    </tr>\n",
       "    <tr>\n",
       "      <td>4</td>\n",
       "      <td>17.343928</td>\n",
       "      <td>4.477337</td>\n",
       "      <td>0.0</td>\n",
       "      <td>10</td>\n",
       "      <td>3.737670</td>\n",
       "      <td>4.0</td>\n",
       "      <td>1.0</td>\n",
       "      <td>1.0</td>\n",
       "      <td>107.0</td>\n",
       "      <td>3.0</td>\n",
       "      <td>2.0</td>\n",
       "    </tr>\n",
       "  </tbody>\n",
       "</table>\n",
       "</div>"
      ],
      "text/plain": [
       "       Price      Size  Balcony  Floor  FloorsTotal  Walls  Age  Lift  \\\n",
       "0  19.162713  5.288267      1.0      1     0.693147    0.0  1.0   0.0   \n",
       "1  16.685113  4.158883      0.0      3     2.079442    4.0  1.0   1.0   \n",
       "2  18.774151  5.081404      1.0      7     1.945910    3.0  1.0   2.0   \n",
       "3  18.774993  5.579730      0.0      5     1.609438    3.0  1.0   0.0   \n",
       "4  17.343928  4.477337      0.0     10     3.737670    4.0  1.0   1.0   \n",
       "\n",
       "   District  Okrug  NumofRooms  \n",
       "0      92.0    3.0         2.0  \n",
       "1      31.0    9.0         1.0  \n",
       "2      78.0    6.0         2.0  \n",
       "3       7.0    6.0         2.0  \n",
       "4     107.0    3.0         2.0  "
      ]
     },
     "execution_count": 56,
     "metadata": {},
     "output_type": "execute_result"
    }
   ],
   "source": [
    "train_data.head()"
   ]
  },
  {
   "cell_type": "code",
   "execution_count": 57,
   "metadata": {},
   "outputs": [
    {
     "data": {
      "text/html": [
       "<div>\n",
       "<style scoped>\n",
       "    .dataframe tbody tr th:only-of-type {\n",
       "        vertical-align: middle;\n",
       "    }\n",
       "\n",
       "    .dataframe tbody tr th {\n",
       "        vertical-align: top;\n",
       "    }\n",
       "\n",
       "    .dataframe thead th {\n",
       "        text-align: right;\n",
       "    }\n",
       "</style>\n",
       "<table border=\"1\" class=\"dataframe\">\n",
       "  <thead>\n",
       "    <tr style=\"text-align: right;\">\n",
       "      <th></th>\n",
       "      <th>Size</th>\n",
       "      <th>Balcony</th>\n",
       "      <th>Floor</th>\n",
       "      <th>FloorsTotal</th>\n",
       "      <th>Walls</th>\n",
       "      <th>Age</th>\n",
       "      <th>Lift</th>\n",
       "      <th>District</th>\n",
       "      <th>Okrug</th>\n",
       "      <th>NumofRooms</th>\n",
       "    </tr>\n",
       "  </thead>\n",
       "  <tbody>\n",
       "    <tr>\n",
       "      <td>0</td>\n",
       "      <td>4.060443</td>\n",
       "      <td>0.0</td>\n",
       "      <td>2</td>\n",
       "      <td>1.609438</td>\n",
       "      <td>0.0</td>\n",
       "      <td>1.0</td>\n",
       "      <td>0.0</td>\n",
       "      <td>13.0</td>\n",
       "      <td>1.0</td>\n",
       "      <td>1.0</td>\n",
       "    </tr>\n",
       "    <tr>\n",
       "      <td>1</td>\n",
       "      <td>5.583496</td>\n",
       "      <td>2.0</td>\n",
       "      <td>3</td>\n",
       "      <td>2.639057</td>\n",
       "      <td>0.0</td>\n",
       "      <td>1.0</td>\n",
       "      <td>1.0</td>\n",
       "      <td>56.0</td>\n",
       "      <td>6.0</td>\n",
       "      <td>2.0</td>\n",
       "    </tr>\n",
       "    <tr>\n",
       "      <td>2</td>\n",
       "      <td>5.283204</td>\n",
       "      <td>2.0</td>\n",
       "      <td>5</td>\n",
       "      <td>2.197225</td>\n",
       "      <td>0.0</td>\n",
       "      <td>1.0</td>\n",
       "      <td>1.0</td>\n",
       "      <td>7.0</td>\n",
       "      <td>6.0</td>\n",
       "      <td>2.0</td>\n",
       "    </tr>\n",
       "    <tr>\n",
       "      <td>3</td>\n",
       "      <td>5.451038</td>\n",
       "      <td>2.0</td>\n",
       "      <td>3</td>\n",
       "      <td>2.639057</td>\n",
       "      <td>0.0</td>\n",
       "      <td>1.0</td>\n",
       "      <td>1.0</td>\n",
       "      <td>56.0</td>\n",
       "      <td>6.0</td>\n",
       "      <td>2.0</td>\n",
       "    </tr>\n",
       "    <tr>\n",
       "      <td>4</td>\n",
       "      <td>4.234107</td>\n",
       "      <td>0.0</td>\n",
       "      <td>2</td>\n",
       "      <td>1.791759</td>\n",
       "      <td>0.0</td>\n",
       "      <td>1.0</td>\n",
       "      <td>2.0</td>\n",
       "      <td>40.0</td>\n",
       "      <td>6.0</td>\n",
       "      <td>1.0</td>\n",
       "    </tr>\n",
       "  </tbody>\n",
       "</table>\n",
       "</div>"
      ],
      "text/plain": [
       "       Size  Balcony  Floor  FloorsTotal  Walls  Age  Lift  District  Okrug  \\\n",
       "0  4.060443      0.0      2     1.609438    0.0  1.0   0.0      13.0    1.0   \n",
       "1  5.583496      2.0      3     2.639057    0.0  1.0   1.0      56.0    6.0   \n",
       "2  5.283204      2.0      5     2.197225    0.0  1.0   1.0       7.0    6.0   \n",
       "3  5.451038      2.0      3     2.639057    0.0  1.0   1.0      56.0    6.0   \n",
       "4  4.234107      0.0      2     1.791759    0.0  1.0   2.0      40.0    6.0   \n",
       "\n",
       "   NumofRooms  \n",
       "0         1.0  \n",
       "1         2.0  \n",
       "2         2.0  \n",
       "3         2.0  \n",
       "4         1.0  "
      ]
     },
     "execution_count": 57,
     "metadata": {},
     "output_type": "execute_result"
    }
   ],
   "source": [
    "test_data.head()"
   ]
  },
  {
   "cell_type": "code",
   "execution_count": 180,
   "metadata": {},
   "outputs": [],
   "source": [
    "corr_mat = train_data.corr()"
   ]
  },
  {
   "cell_type": "code",
   "execution_count": 181,
   "metadata": {},
   "outputs": [
    {
     "data": {
      "text/plain": [
       "<matplotlib.axes._subplots.AxesSubplot at 0x1dd8179ef48>"
      ]
     },
     "execution_count": 181,
     "metadata": {},
     "output_type": "execute_result"
    },
    {
     "data": {
      "image/png": "[encoded data removed]",
      "text/plain": [
       "<Figure size 1800x1800 with 2 Axes>"
      ]
     },
     "metadata": {
      "needs_background": "light"
     },
     "output_type": "display_data"
    }
   ],
   "source": [
    "plt.figure(figsize = (25, 25))\n",
    "sns.heatmap(corr_mat, annot = True)"
   ]
  },
  {
   "cell_type": "code",
   "execution_count": 60,
   "metadata": {
    "scrolled": false
   },
   "outputs": [
    {
     "data": {
      "text/plain": [
       "<matplotlib.axes._subplots.AxesSubplot at 0x1ddcb65d588>"
      ]
     },
     "execution_count": 60,
     "metadata": {},
     "output_type": "execute_result"
    },
    {
     "data": {
      "image/png": "[encoded data removed]",
      "text/plain": [
       "<Figure size 1800x720 with 2 Axes>"
      ]
     },
     "metadata": {
      "needs_background": "light"
     },
     "output_type": "display_data"
    }
   ],
   "source": [
    "msno.matrix(train_data)"
   ]
  },
  {
   "cell_type": "code",
   "execution_count": 145,
   "metadata": {
    "scrolled": true
   },
   "outputs": [],
   "source": [
    "from sklearn.model_selection import train_test_split\n",
    "\n",
    "\n",
    "\n",
    "X = train_data.drop('Price',axis=1)\n",
    "y = train_data['Price']\n",
    "\n",
    "X_train, X_test, y_train, y_test = train_test_split(X, y, test_size=0.25, random_state=101)"
   ]
  },
  {
   "cell_type": "code",
   "execution_count": 146,
   "metadata": {},
   "outputs": [
    {
     "data": {
      "text/plain": [
       "LinearRegression()"
      ]
     },
     "execution_count": 146,
     "metadata": {},
     "output_type": "execute_result"
    }
   ],
   "source": [
    "from sklearn.linear_model import LinearRegression\n",
    "lin_reg = LinearRegression()\n",
    "lin_reg.fit(X_train, y_train)"
   ]
  },
  {
   "cell_type": "code",
   "execution_count": 147,
   "metadata": {},
   "outputs": [],
   "source": [
    "from sklearn.model_selection import cross_val_predict\n",
    "from sklearn.metrics import accuracy_score\n",
    "import statistics\n",
    "from sklearn.model_selection import cross_val_score\n",
    "\n",
    "def print_evaluate(true, predicted):\n",
    "    mae=np.round(mean_absolute_error(true, predicted),3)\n",
    "    mse=np.round(mean_squared_error(true, predicted),3)\n",
    "    rmse=np.round(np.sqrt(mean_squared_error(true, predicted)),3)\n",
    "    r2_square=np.round(r2_score(true, predicted),3)\n",
    "    print('MAE: ', mae)\n",
    "    print('MSE: ', mse)\n",
    "    print('RMSE: ', rmse)\n",
    "    print('R2 Score:', r2_square)\n",
    "\n",
    "def cross_val(model, X, y):\n",
    "    pred=cross_val_score(model, X,y,cv=10)\n",
    "    return np.round(pred.mean(),3)\n",
    "\n",
    "def evaluate(true, predicted):\n",
    "    mae=np.round(mean_absolute_error(true, predicted),3)\n",
    "    mse=np.round(mean_squared_error(true, predicted),3)\n",
    "    rmse=np.round(np.sqrt(mean_squared_error(true, predicted)),3)\n",
    "    r2_square=np.round(r2_score(true, predicted),3)\n",
    "    \n",
    "    return mae,mse,rmse,r2_square \n",
    "    "
   ]
  },
  {
   "cell_type": "code",
   "execution_count": 148,
   "metadata": {},
   "outputs": [
    {
     "name": "stdout",
     "output_type": "stream",
     "text": [
      "Train set evaluation:\n",
      "\n",
      "MAE:  0.281\n",
      "MSE:  0.138\n",
      "RMSE:  0.372\n",
      "R2 Score: 0.827\n",
      "--------------------------------\n",
      "\n",
      "Cross_validation score:\n",
      "\n"
     ]
    },
    {
     "data": {
      "text/plain": [
       "0.826"
      ]
     },
     "execution_count": 148,
     "metadata": {},
     "output_type": "execute_result"
    }
   ],
   "source": [
    "train_pred = lin_reg.predict(X_train)\n",
    "\n",
    "print('Train set evaluation:\\n')\n",
    "print_evaluate(y_train, train_pred)\n",
    "print('--------------------------------\\n')\n",
    "cross_score=cross_val(lin_reg, X_train, y_train)\n",
    "print('Cross_validation score:\\n')\n",
    "cross_score"
   ]
  },
  {
   "cell_type": "code",
   "execution_count": 149,
   "metadata": {},
   "outputs": [
    {
     "data": {
      "text/html": [
       "<div>\n",
       "<style scoped>\n",
       "    .dataframe tbody tr th:only-of-type {\n",
       "        vertical-align: middle;\n",
       "    }\n",
       "\n",
       "    .dataframe tbody tr th {\n",
       "        vertical-align: top;\n",
       "    }\n",
       "\n",
       "    .dataframe thead th {\n",
       "        text-align: right;\n",
       "    }\n",
       "</style>\n",
       "<table border=\"1\" class=\"dataframe\">\n",
       "  <thead>\n",
       "    <tr style=\"text-align: right;\">\n",
       "      <th></th>\n",
       "      <th>Model</th>\n",
       "      <th>MAE</th>\n",
       "      <th>MSE</th>\n",
       "      <th>RMSE</th>\n",
       "      <th>R2 Square</th>\n",
       "      <th>Cross Validation</th>\n",
       "    </tr>\n",
       "  </thead>\n",
       "  <tbody>\n",
       "    <tr>\n",
       "      <td>0</td>\n",
       "      <td>Linear Regression</td>\n",
       "      <td>0.281</td>\n",
       "      <td>0.138</td>\n",
       "      <td>0.372</td>\n",
       "      <td>0.827</td>\n",
       "      <td>0.826</td>\n",
       "    </tr>\n",
       "  </tbody>\n",
       "</table>\n",
       "</div>"
      ],
      "text/plain": [
       "               Model    MAE    MSE   RMSE  R2 Square  Cross Validation\n",
       "0  Linear Regression  0.281  0.138  0.372      0.827             0.826"
      ]
     },
     "execution_count": 149,
     "metadata": {},
     "output_type": "execute_result"
    }
   ],
   "source": [
    "results_df=pd.DataFrame(data=[['Linear Regression', *evaluate(y_train, train_pred), cross_score]], columns=['Model', 'MAE', 'MSE', 'RMSE', 'R2 Square', 'Cross Validation'])\n",
    "results_df"
   ]
  },
  {
   "cell_type": "code",
   "execution_count": 150,
   "metadata": {},
   "outputs": [
    {
     "name": "stdout",
     "output_type": "stream",
     "text": [
      "Train set evaluation:\n",
      "\n",
      "MAE:  0.673\n",
      "MSE:  0.771\n",
      "RMSE:  0.878\n",
      "R2 Score: 0.034\n",
      "--------------------------------\n",
      "\n",
      "Cross_validation score:\n",
      "\n"
     ]
    },
    {
     "data": {
      "text/plain": [
       "0.033"
      ]
     },
     "execution_count": 150,
     "metadata": {},
     "output_type": "execute_result"
    }
   ],
   "source": [
    "el=ElasticNet()\n",
    "el.fit(X_train, y_train)\n",
    "\n",
    "train_pred=el.predict(X_train)\n",
    "\n",
    "print('Train set evaluation:\\n')\n",
    "print_evaluate(y_train, train_pred)\n",
    "print('--------------------------------\\n')\n",
    "cross_score=cross_val(el, X_train, y_train)\n",
    "print('Cross_validation score:\\n')\n",
    "cross_score"
   ]
  },
  {
   "cell_type": "code",
   "execution_count": 151,
   "metadata": {},
   "outputs": [
    {
     "name": "stdout",
     "output_type": "stream",
     "text": [
      "Train set evaluation:\n",
      "\n",
      "MAE:  0.057\n",
      "MSE:  0.007\n",
      "RMSE:  0.083\n",
      "R2 Score: 0.991\n",
      "--------------------------------\n",
      "\n",
      "Cross_validation score:\n",
      "\n"
     ]
    },
    {
     "data": {
      "text/plain": [
       "0.938"
      ]
     },
     "execution_count": 151,
     "metadata": {},
     "output_type": "execute_result"
    }
   ],
   "source": [
    "from sklearn.ensemble import RandomForestRegressor\n",
    "rfr=RandomForestRegressor(n_estimators=100)\n",
    "rfr.fit(X_train, y_train)\n",
    "\n",
    "train_pred=rfr.predict(X_train)\n",
    "\n",
    "print('Train set evaluation:\\n')\n",
    "print_evaluate(y_train, train_pred)\n",
    "print('--------------------------------\\n')\n",
    "cross_score=cross_val(rfr, X_train, y_train)\n",
    "print('Cross_validation score:\\n')\n",
    "cross_score"
   ]
  },
  {
   "cell_type": "code",
   "execution_count": 152,
   "metadata": {
    "scrolled": true
   },
   "outputs": [
    {
     "data": {
      "text/html": [
       "<div>\n",
       "<style scoped>\n",
       "    .dataframe tbody tr th:only-of-type {\n",
       "        vertical-align: middle;\n",
       "    }\n",
       "\n",
       "    .dataframe tbody tr th {\n",
       "        vertical-align: top;\n",
       "    }\n",
       "\n",
       "    .dataframe thead th {\n",
       "        text-align: right;\n",
       "    }\n",
       "</style>\n",
       "<table border=\"1\" class=\"dataframe\">\n",
       "  <thead>\n",
       "    <tr style=\"text-align: right;\">\n",
       "      <th></th>\n",
       "      <th>Model</th>\n",
       "      <th>MAE</th>\n",
       "      <th>MSE</th>\n",
       "      <th>RMSE</th>\n",
       "      <th>R2 Square</th>\n",
       "      <th>Cross Validation</th>\n",
       "    </tr>\n",
       "  </thead>\n",
       "  <tbody>\n",
       "    <tr>\n",
       "      <td>0</td>\n",
       "      <td>Linear Regression</td>\n",
       "      <td>0.281</td>\n",
       "      <td>0.138</td>\n",
       "      <td>0.372</td>\n",
       "      <td>0.827</td>\n",
       "      <td>0.826</td>\n",
       "    </tr>\n",
       "    <tr>\n",
       "      <td>1</td>\n",
       "      <td>RandomForestRegressor</td>\n",
       "      <td>0.057</td>\n",
       "      <td>0.007</td>\n",
       "      <td>0.083</td>\n",
       "      <td>0.991</td>\n",
       "      <td>0.938</td>\n",
       "    </tr>\n",
       "  </tbody>\n",
       "</table>\n",
       "</div>"
      ],
      "text/plain": [
       "                   Model    MAE    MSE   RMSE  R2 Square  Cross Validation\n",
       "0      Linear Regression  0.281  0.138  0.372      0.827             0.826\n",
       "1  RandomForestRegressor  0.057  0.007  0.083      0.991             0.938"
      ]
     },
     "execution_count": 152,
     "metadata": {},
     "output_type": "execute_result"
    }
   ],
   "source": [
    "results_df=results_df.append(pd.DataFrame(data=[['RandomForestRegressor', *evaluate(y_train, train_pred), cross_score]], columns=['Model', 'MAE', 'MSE', 'RMSE', 'R2 Square', 'Cross Validation']), ignore_index=True)\n",
    "results_df"
   ]
  },
  {
   "cell_type": "code",
   "execution_count": 70,
   "metadata": {},
   "outputs": [
    {
     "data": {
      "text/html": [
       "<div>\n",
       "<style scoped>\n",
       "    .dataframe tbody tr th:only-of-type {\n",
       "        vertical-align: middle;\n",
       "    }\n",
       "\n",
       "    .dataframe tbody tr th {\n",
       "        vertical-align: top;\n",
       "    }\n",
       "\n",
       "    .dataframe thead th {\n",
       "        text-align: right;\n",
       "    }\n",
       "</style>\n",
       "<table border=\"1\" class=\"dataframe\">\n",
       "  <thead>\n",
       "    <tr style=\"text-align: right;\">\n",
       "      <th></th>\n",
       "      <th>Model</th>\n",
       "      <th>MAE</th>\n",
       "      <th>MSE</th>\n",
       "      <th>RMSE</th>\n",
       "      <th>R2 Square</th>\n",
       "      <th>Cross Validation</th>\n",
       "    </tr>\n",
       "  </thead>\n",
       "  <tbody>\n",
       "    <tr>\n",
       "      <td>0</td>\n",
       "      <td>Linear Regression</td>\n",
       "      <td>0.278</td>\n",
       "      <td>0.133</td>\n",
       "      <td>0.365</td>\n",
       "      <td>0.833</td>\n",
       "      <td>0.833</td>\n",
       "    </tr>\n",
       "    <tr>\n",
       "      <td>1</td>\n",
       "      <td>RandomForestRegressor</td>\n",
       "      <td>0.053</td>\n",
       "      <td>0.006</td>\n",
       "      <td>0.078</td>\n",
       "      <td>0.992</td>\n",
       "      <td>0.944</td>\n",
       "    </tr>\n",
       "  </tbody>\n",
       "</table>\n",
       "</div>"
      ],
      "text/plain": [
       "                   Model    MAE    MSE   RMSE  R2 Square  Cross Validation\n",
       "0      Linear Regression  0.278  0.133  0.365      0.833             0.833\n",
       "1  RandomForestRegressor  0.053  0.006  0.078      0.992             0.944"
      ]
     },
     "execution_count": 70,
     "metadata": {},
     "output_type": "execute_result"
    }
   ],
   "source": [
    "results_df"
   ]
  },
  {
   "cell_type": "code",
   "execution_count": 153,
   "metadata": {},
   "outputs": [
    {
     "name": "stdout",
     "output_type": "stream",
     "text": [
      "Train set evaluation:\n",
      "\n",
      "MAE:  5795374.048\n",
      "MSE:  61545760192327.18\n",
      "RMSE:  7845110.591\n",
      "R2 Score: -77122016641327.38\n",
      "--------------------------------\n",
      "\n",
      "Cross_validation score:\n",
      "\n"
     ]
    },
    {
     "data": {
      "text/plain": [
       "-3.811085244044518e+20"
      ]
     },
     "execution_count": 153,
     "metadata": {},
     "output_type": "execute_result"
    }
   ],
   "source": [
    "lr = SGDRegressor()\n",
    "lr.fit(X_train, y_train)\n",
    "\n",
    "train_pred=lr.predict(X_train)\n",
    "\n",
    "print('Train set evaluation:\\n')\n",
    "print_evaluate(y_train, train_pred)\n",
    "print('--------------------------------\\n')\n",
    "cross_score=cross_val(lr, X_train, y_train)\n",
    "print('Cross_validation score:\\n')\n",
    "cross_score"
   ]
  },
  {
   "cell_type": "code",
   "execution_count": 72,
   "metadata": {},
   "outputs": [
    {
     "name": "stderr",
     "output_type": "stream",
     "text": [
      "C:\\Users\\peter\\Anaconda3\\lib\\site-packages\\sklearn\\linear_model\\_base.py:145: FutureWarning: 'normalize' was deprecated in version 1.0 and will be removed in 1.2.\n",
      "If you wish to scale the data, use Pipeline with a StandardScaler in a preprocessing stage. To reproduce the previous behavior:\n",
      "\n",
      "from sklearn.pipeline import make_pipeline\n",
      "\n",
      "model = make_pipeline(StandardScaler(with_mean=False), LinearRegression())\n",
      "\n",
      "If you wish to pass a sample_weight parameter, you need to pass it as a fit parameter to each step of the pipeline as follows:\n",
      "\n",
      "kwargs = {s[0] + '__sample_weight': sample_weight for s in model.steps}\n",
      "model.fit(X, y, **kwargs)\n",
      "\n",
      "\n",
      "  FutureWarning,\n"
     ]
    },
    {
     "name": "stdout",
     "output_type": "stream",
     "text": [
      "Train set evaluation:\n",
      "\n",
      "MAE:  0.249\n",
      "MSE:  0.109\n",
      "RMSE:  0.33\n",
      "R2 Score: 0.863\n",
      "--------------------------------\n",
      "\n",
      "Cross_validation score:\n",
      "\n"
     ]
    },
    {
     "data": {
      "text/plain": [
       "0.786"
      ]
     },
     "execution_count": 72,
     "metadata": {},
     "output_type": "execute_result"
    }
   ],
   "source": [
    "from sklearn.preprocessing import PolynomialFeatures\n",
    "poly_reg=PolynomialFeatures(degree=2)\n",
    "\n",
    "X_train_2_d=poly_reg.fit_transform(X_train)\n",
    "\n",
    "lin_reg=LinearRegression(normalize=True)\n",
    "lin_reg.fit(X_train_2_d, y_train)\n",
    "\n",
    "train_pred=lin_reg.predict(X_train_2_d)\n",
    "\n",
    "print('Train set evaluation:\\n')\n",
    "print_evaluate(y_train, train_pred)\n",
    "print('--------------------------------\\n')\n",
    "cross_score=cross_val(el, X_train_2_d, y_train)\n",
    "print('Cross_validation score:\\n')\n",
    "cross_score"
   ]
  },
  {
   "cell_type": "code",
   "execution_count": 154,
   "metadata": {},
   "outputs": [
    {
     "data": {
      "text/html": [
       "<div>\n",
       "<style scoped>\n",
       "    .dataframe tbody tr th:only-of-type {\n",
       "        vertical-align: middle;\n",
       "    }\n",
       "\n",
       "    .dataframe tbody tr th {\n",
       "        vertical-align: top;\n",
       "    }\n",
       "\n",
       "    .dataframe thead th {\n",
       "        text-align: right;\n",
       "    }\n",
       "</style>\n",
       "<table border=\"1\" class=\"dataframe\">\n",
       "  <thead>\n",
       "    <tr style=\"text-align: right;\">\n",
       "      <th></th>\n",
       "      <th>Model</th>\n",
       "      <th>MAE</th>\n",
       "      <th>MSE</th>\n",
       "      <th>RMSE</th>\n",
       "      <th>R2 Square</th>\n",
       "      <th>Cross Validation</th>\n",
       "    </tr>\n",
       "  </thead>\n",
       "  <tbody>\n",
       "    <tr>\n",
       "      <td>0</td>\n",
       "      <td>Linear Regression</td>\n",
       "      <td>0.281</td>\n",
       "      <td>1.380000e-01</td>\n",
       "      <td>0.372</td>\n",
       "      <td>8.270000e-01</td>\n",
       "      <td>8.260000e-01</td>\n",
       "    </tr>\n",
       "    <tr>\n",
       "      <td>1</td>\n",
       "      <td>RandomForestRegressor</td>\n",
       "      <td>0.057</td>\n",
       "      <td>7.000000e-03</td>\n",
       "      <td>0.083</td>\n",
       "      <td>9.910000e-01</td>\n",
       "      <td>9.380000e-01</td>\n",
       "    </tr>\n",
       "    <tr>\n",
       "      <td>2</td>\n",
       "      <td>Polynomial Regression</td>\n",
       "      <td>5795374.048</td>\n",
       "      <td>6.154576e+13</td>\n",
       "      <td>7845110.591</td>\n",
       "      <td>-7.712202e+13</td>\n",
       "      <td>-3.811085e+20</td>\n",
       "    </tr>\n",
       "  </tbody>\n",
       "</table>\n",
       "</div>"
      ],
      "text/plain": [
       "                   Model          MAE           MSE         RMSE  \\\n",
       "0      Linear Regression        0.281  1.380000e-01        0.372   \n",
       "1  RandomForestRegressor        0.057  7.000000e-03        0.083   \n",
       "2  Polynomial Regression  5795374.048  6.154576e+13  7845110.591   \n",
       "\n",
       "      R2 Square  Cross Validation  \n",
       "0  8.270000e-01      8.260000e-01  \n",
       "1  9.910000e-01      9.380000e-01  \n",
       "2 -7.712202e+13     -3.811085e+20  "
      ]
     },
     "execution_count": 154,
     "metadata": {},
     "output_type": "execute_result"
    }
   ],
   "source": [
    "results_df=results_df.append(pd.DataFrame(data=[['Polynomial Regression', *evaluate(y_train, train_pred), cross_score]], columns=['Model', 'MAE', 'MSE', 'RMSE', 'R2 Square', 'Cross Validation']), ignore_index=True)\n",
    "results_df"
   ]
  },
  {
   "cell_type": "code",
   "execution_count": 155,
   "metadata": {},
   "outputs": [
    {
     "name": "stdout",
     "output_type": "stream",
     "text": [
      "Train set evaluation:\n",
      "\n",
      "MAE:  0.284\n",
      "MSE:  0.141\n",
      "RMSE:  0.375\n",
      "R2 Score: 0.824\n",
      "--------------------------------\n",
      "\n",
      "Cross_validation score:\n",
      "\n"
     ]
    },
    {
     "data": {
      "text/plain": [
       "0.823"
      ]
     },
     "execution_count": 155,
     "metadata": {},
     "output_type": "execute_result"
    }
   ],
   "source": [
    "lasso=Lasso(alpha=0.01)\n",
    "lasso.fit(X_train, y_train)\n",
    "\n",
    "train_pred=lasso.predict(X_train)\n",
    "\n",
    "print('Train set evaluation:\\n')\n",
    "print_evaluate(y_train, train_pred)\n",
    "print('--------------------------------\\n')\n",
    "cross_score=cross_val(lasso, X_train, y_train)\n",
    "print('Cross_validation score:\\n')\n",
    "cross_score"
   ]
  },
  {
   "cell_type": "code",
   "execution_count": 156,
   "metadata": {},
   "outputs": [
    {
     "name": "stdout",
     "output_type": "stream",
     "text": [
      "Train set evaluation:\n",
      "\n",
      "MAE:  0.281\n",
      "MSE:  0.138\n",
      "RMSE:  0.372\n",
      "R2 Score: 0.827\n",
      "--------------------------------\n",
      "\n",
      "Cross_validation score:\n",
      "\n"
     ]
    },
    {
     "data": {
      "text/plain": [
       "0.826"
      ]
     },
     "execution_count": 156,
     "metadata": {},
     "output_type": "execute_result"
    }
   ],
   "source": [
    "ridge=Ridge(alpha=0.001)\n",
    "ridge.fit(X_train, y_train)\n",
    "\n",
    "train_pred=ridge.predict(X_train)\n",
    "\n",
    "print('Train set evaluation:\\n')\n",
    "print_evaluate(y_train, train_pred)\n",
    "print('--------------------------------\\n')\n",
    "cross_score=cross_val(ridge, X_train, y_train)\n",
    "print('Cross_validation score:\\n')\n",
    "cross_score"
   ]
  },
  {
   "cell_type": "code",
   "execution_count": 157,
   "metadata": {
    "scrolled": false
   },
   "outputs": [
    {
     "data": {
      "text/html": [
       "<div>\n",
       "<style scoped>\n",
       "    .dataframe tbody tr th:only-of-type {\n",
       "        vertical-align: middle;\n",
       "    }\n",
       "\n",
       "    .dataframe tbody tr th {\n",
       "        vertical-align: top;\n",
       "    }\n",
       "\n",
       "    .dataframe thead th {\n",
       "        text-align: right;\n",
       "    }\n",
       "</style>\n",
       "<table border=\"1\" class=\"dataframe\">\n",
       "  <thead>\n",
       "    <tr style=\"text-align: right;\">\n",
       "      <th></th>\n",
       "      <th>Model</th>\n",
       "      <th>MAE</th>\n",
       "      <th>MSE</th>\n",
       "      <th>RMSE</th>\n",
       "      <th>R2 Square</th>\n",
       "      <th>Cross Validation</th>\n",
       "    </tr>\n",
       "  </thead>\n",
       "  <tbody>\n",
       "    <tr>\n",
       "      <td>0</td>\n",
       "      <td>Linear Regression</td>\n",
       "      <td>0.281</td>\n",
       "      <td>1.380000e-01</td>\n",
       "      <td>0.372</td>\n",
       "      <td>8.270000e-01</td>\n",
       "      <td>8.260000e-01</td>\n",
       "    </tr>\n",
       "    <tr>\n",
       "      <td>1</td>\n",
       "      <td>RandomForestRegressor</td>\n",
       "      <td>0.057</td>\n",
       "      <td>7.000000e-03</td>\n",
       "      <td>0.083</td>\n",
       "      <td>9.910000e-01</td>\n",
       "      <td>9.380000e-01</td>\n",
       "    </tr>\n",
       "    <tr>\n",
       "      <td>2</td>\n",
       "      <td>Polynomial Regression</td>\n",
       "      <td>5795374.048</td>\n",
       "      <td>6.154576e+13</td>\n",
       "      <td>7845110.591</td>\n",
       "      <td>-7.712202e+13</td>\n",
       "      <td>-3.811085e+20</td>\n",
       "    </tr>\n",
       "    <tr>\n",
       "      <td>3</td>\n",
       "      <td>Ridge</td>\n",
       "      <td>0.281</td>\n",
       "      <td>1.380000e-01</td>\n",
       "      <td>0.372</td>\n",
       "      <td>8.270000e-01</td>\n",
       "      <td>8.260000e-01</td>\n",
       "    </tr>\n",
       "  </tbody>\n",
       "</table>\n",
       "</div>"
      ],
      "text/plain": [
       "                   Model          MAE           MSE         RMSE  \\\n",
       "0      Linear Regression        0.281  1.380000e-01        0.372   \n",
       "1  RandomForestRegressor        0.057  7.000000e-03        0.083   \n",
       "2  Polynomial Regression  5795374.048  6.154576e+13  7845110.591   \n",
       "3                  Ridge        0.281  1.380000e-01        0.372   \n",
       "\n",
       "      R2 Square  Cross Validation  \n",
       "0  8.270000e-01      8.260000e-01  \n",
       "1  9.910000e-01      9.380000e-01  \n",
       "2 -7.712202e+13     -3.811085e+20  \n",
       "3  8.270000e-01      8.260000e-01  "
      ]
     },
     "execution_count": 157,
     "metadata": {},
     "output_type": "execute_result"
    }
   ],
   "source": [
    "results_df=results_df.append(pd.DataFrame(data=[['Ridge', *evaluate(y_train, train_pred), cross_score]], columns=['Model', 'MAE', 'MSE', 'RMSE', 'R2 Square', 'Cross Validation']), ignore_index=True)\n",
    "results_df"
   ]
  },
  {
   "cell_type": "code",
   "execution_count": 158,
   "metadata": {},
   "outputs": [
    {
     "data": {
      "text/plain": [
       "XGBRegressor(base_score=0.5, booster='gbtree', colsample_bylevel=1,\n",
       "             colsample_bynode=1, colsample_bytree=1, enable_categorical=False,\n",
       "             gamma=0, gpu_id=-1, importance_type=None,\n",
       "             interaction_constraints='', learning_rate=0.1, max_delta_step=0,\n",
       "             max_depth=5, min_child_weight=1, missing=nan,\n",
       "             monotone_constraints='()', n_estimators=100, n_jobs=4,\n",
       "             num_parallel_tree=1, predictor='auto', random_state=0, reg_alpha=0,\n",
       "             reg_lambda=1, scale_pos_weight=1, subsample=1, tree_method='exact',\n",
       "             validate_parameters=1, verbosity=None)"
      ]
     },
     "execution_count": 158,
     "metadata": {},
     "output_type": "execute_result"
    }
   ],
   "source": [
    "# Train an XGBoost regressor model \n",
    "import xgboost as xgb\n",
    "xb = xgb.XGBRegressor(objective ='reg:squarederror', learning_rate = 0.1, max_depth = 5, n_estimators = 100)\n",
    "xb.fit(X_train, y_train)\n"
   ]
  },
  {
   "cell_type": "code",
   "execution_count": 159,
   "metadata": {
    "scrolled": true
   },
   "outputs": [
    {
     "name": "stdout",
     "output_type": "stream",
     "text": [
      "Accuracy : 0.9225023421171363\n"
     ]
    }
   ],
   "source": [
    "result = xb.score(X_test, y_test)\n",
    "print(\"Accuracy : {}\".format(result))"
   ]
  },
  {
   "cell_type": "code",
   "execution_count": 160,
   "metadata": {},
   "outputs": [
    {
     "name": "stdout",
     "output_type": "stream",
     "text": [
      "Train set evaluation:\n",
      "\n",
      "MAE:  0.166\n",
      "MSE:  0.054\n",
      "RMSE:  0.232\n",
      "R2 Score: 0.933\n",
      "--------------------------------\n",
      "\n",
      "Cross_validation score:\n",
      "\n"
     ]
    },
    {
     "data": {
      "text/plain": [
       "0.927"
      ]
     },
     "execution_count": 160,
     "metadata": {},
     "output_type": "execute_result"
    }
   ],
   "source": [
    "train_pred=xb.predict(X_train)\n",
    "\n",
    "print('Train set evaluation:\\n')\n",
    "print_evaluate(y_train, train_pred)\n",
    "print('--------------------------------\\n')\n",
    "cross_score=cross_val(xb, X_train, y_train)\n",
    "print('Cross_validation score:\\n')\n",
    "cross_score"
   ]
  },
  {
   "cell_type": "code",
   "execution_count": 161,
   "metadata": {
    "scrolled": true
   },
   "outputs": [
    {
     "data": {
      "text/html": [
       "<div>\n",
       "<style scoped>\n",
       "    .dataframe tbody tr th:only-of-type {\n",
       "        vertical-align: middle;\n",
       "    }\n",
       "\n",
       "    .dataframe tbody tr th {\n",
       "        vertical-align: top;\n",
       "    }\n",
       "\n",
       "    .dataframe thead th {\n",
       "        text-align: right;\n",
       "    }\n",
       "</style>\n",
       "<table border=\"1\" class=\"dataframe\">\n",
       "  <thead>\n",
       "    <tr style=\"text-align: right;\">\n",
       "      <th></th>\n",
       "      <th>Model</th>\n",
       "      <th>MAE</th>\n",
       "      <th>MSE</th>\n",
       "      <th>RMSE</th>\n",
       "      <th>R2 Square</th>\n",
       "      <th>Cross Validation</th>\n",
       "    </tr>\n",
       "  </thead>\n",
       "  <tbody>\n",
       "    <tr>\n",
       "      <td>0</td>\n",
       "      <td>Linear Regression</td>\n",
       "      <td>0.281</td>\n",
       "      <td>1.380000e-01</td>\n",
       "      <td>0.372</td>\n",
       "      <td>8.270000e-01</td>\n",
       "      <td>8.260000e-01</td>\n",
       "    </tr>\n",
       "    <tr>\n",
       "      <td>1</td>\n",
       "      <td>RandomForestRegressor</td>\n",
       "      <td>0.057</td>\n",
       "      <td>7.000000e-03</td>\n",
       "      <td>0.083</td>\n",
       "      <td>9.910000e-01</td>\n",
       "      <td>9.380000e-01</td>\n",
       "    </tr>\n",
       "    <tr>\n",
       "      <td>2</td>\n",
       "      <td>Polynomial Regression</td>\n",
       "      <td>5795374.048</td>\n",
       "      <td>6.154576e+13</td>\n",
       "      <td>7845110.591</td>\n",
       "      <td>-7.712202e+13</td>\n",
       "      <td>-3.811085e+20</td>\n",
       "    </tr>\n",
       "    <tr>\n",
       "      <td>3</td>\n",
       "      <td>Ridge</td>\n",
       "      <td>0.281</td>\n",
       "      <td>1.380000e-01</td>\n",
       "      <td>0.372</td>\n",
       "      <td>8.270000e-01</td>\n",
       "      <td>8.260000e-01</td>\n",
       "    </tr>\n",
       "    <tr>\n",
       "      <td>4</td>\n",
       "      <td>XGBoost</td>\n",
       "      <td>0.166</td>\n",
       "      <td>5.400000e-02</td>\n",
       "      <td>0.232</td>\n",
       "      <td>9.330000e-01</td>\n",
       "      <td>9.270000e-01</td>\n",
       "    </tr>\n",
       "  </tbody>\n",
       "</table>\n",
       "</div>"
      ],
      "text/plain": [
       "                   Model          MAE           MSE         RMSE  \\\n",
       "0      Linear Regression        0.281  1.380000e-01        0.372   \n",
       "1  RandomForestRegressor        0.057  7.000000e-03        0.083   \n",
       "2  Polynomial Regression  5795374.048  6.154576e+13  7845110.591   \n",
       "3                  Ridge        0.281  1.380000e-01        0.372   \n",
       "4                XGBoost        0.166  5.400000e-02        0.232   \n",
       "\n",
       "      R2 Square  Cross Validation  \n",
       "0  8.270000e-01      8.260000e-01  \n",
       "1  9.910000e-01      9.380000e-01  \n",
       "2 -7.712202e+13     -3.811085e+20  \n",
       "3  8.270000e-01      8.260000e-01  \n",
       "4  9.330000e-01      9.270000e-01  "
      ]
     },
     "execution_count": 161,
     "metadata": {},
     "output_type": "execute_result"
    }
   ],
   "source": [
    "results_df=results_df.append(pd.DataFrame(data=[['XGBoost', *evaluate(y_train, train_pred), cross_score]], columns=['Model', 'MAE', 'MSE', 'RMSE', 'R2 Square', 'Cross Validation']), ignore_index=True)\n",
    "results_df"
   ]
  },
  {
   "cell_type": "code",
   "execution_count": 162,
   "metadata": {},
   "outputs": [
    {
     "data": {
      "text/plain": [
       "XGBRegressor(base_score=0.5, booster='gbtree', colsample_bylevel=1,\n",
       "             colsample_bynode=1, colsample_bytree=1, enable_categorical=False,\n",
       "             gamma=0, gpu_id=-1, importance_type=None,\n",
       "             interaction_constraints='', learning_rate=0.300000012,\n",
       "             max_delta_step=0, max_depth=6, min_child_weight=1, missing=nan,\n",
       "             monotone_constraints='()', n_estimators=100, n_jobs=4,\n",
       "             num_parallel_tree=1, predictor='auto', random_state=0, reg_alpha=0,\n",
       "             reg_lambda=1, scale_pos_weight=1, subsample=1, tree_method='exact',\n",
       "             validate_parameters=1, verbosity=None)"
      ]
     },
     "execution_count": 162,
     "metadata": {},
     "output_type": "execute_result"
    }
   ],
   "source": [
    "xb2 = xgb.XGBRegressor()\n",
    "xb2.fit(X_train, y_train)\n"
   ]
  },
  {
   "cell_type": "code",
   "execution_count": 163,
   "metadata": {},
   "outputs": [
    {
     "name": "stdout",
     "output_type": "stream",
     "text": [
      "Train set evaluation:\n",
      "\n",
      "MAE:  0.13\n",
      "MSE:  0.033\n",
      "RMSE:  0.183\n",
      "R2 Score: 0.958\n",
      "--------------------------------\n",
      "\n",
      "Cross_validation score:\n",
      "\n"
     ]
    },
    {
     "data": {
      "text/plain": [
       "0.942"
      ]
     },
     "execution_count": 163,
     "metadata": {},
     "output_type": "execute_result"
    }
   ],
   "source": [
    "train_pred=xb2.predict(X_train)\n",
    "\n",
    "print('Train set evaluation:\\n')\n",
    "print_evaluate(y_train, train_pred)\n",
    "print('--------------------------------\\n')\n",
    "cross_score=cross_val(xb2, X_train, y_train)\n",
    "print('Cross_validation score:\\n')\n",
    "cross_score"
   ]
  },
  {
   "cell_type": "code",
   "execution_count": 164,
   "metadata": {
    "scrolled": true
   },
   "outputs": [
    {
     "data": {
      "text/html": [
       "<div>\n",
       "<style scoped>\n",
       "    .dataframe tbody tr th:only-of-type {\n",
       "        vertical-align: middle;\n",
       "    }\n",
       "\n",
       "    .dataframe tbody tr th {\n",
       "        vertical-align: top;\n",
       "    }\n",
       "\n",
       "    .dataframe thead th {\n",
       "        text-align: right;\n",
       "    }\n",
       "</style>\n",
       "<table border=\"1\" class=\"dataframe\">\n",
       "  <thead>\n",
       "    <tr style=\"text-align: right;\">\n",
       "      <th></th>\n",
       "      <th>Model</th>\n",
       "      <th>MAE</th>\n",
       "      <th>MSE</th>\n",
       "      <th>RMSE</th>\n",
       "      <th>R2 Square</th>\n",
       "      <th>Cross Validation</th>\n",
       "    </tr>\n",
       "  </thead>\n",
       "  <tbody>\n",
       "    <tr>\n",
       "      <td>0</td>\n",
       "      <td>Linear Regression</td>\n",
       "      <td>0.281</td>\n",
       "      <td>1.380000e-01</td>\n",
       "      <td>0.372</td>\n",
       "      <td>8.270000e-01</td>\n",
       "      <td>8.260000e-01</td>\n",
       "    </tr>\n",
       "    <tr>\n",
       "      <td>1</td>\n",
       "      <td>RandomForestRegressor</td>\n",
       "      <td>0.057</td>\n",
       "      <td>7.000000e-03</td>\n",
       "      <td>0.083</td>\n",
       "      <td>9.910000e-01</td>\n",
       "      <td>9.380000e-01</td>\n",
       "    </tr>\n",
       "    <tr>\n",
       "      <td>2</td>\n",
       "      <td>Polynomial Regression</td>\n",
       "      <td>5795374.048</td>\n",
       "      <td>6.154576e+13</td>\n",
       "      <td>7845110.591</td>\n",
       "      <td>-7.712202e+13</td>\n",
       "      <td>-3.811085e+20</td>\n",
       "    </tr>\n",
       "    <tr>\n",
       "      <td>3</td>\n",
       "      <td>Ridge</td>\n",
       "      <td>0.281</td>\n",
       "      <td>1.380000e-01</td>\n",
       "      <td>0.372</td>\n",
       "      <td>8.270000e-01</td>\n",
       "      <td>8.260000e-01</td>\n",
       "    </tr>\n",
       "    <tr>\n",
       "      <td>4</td>\n",
       "      <td>XGBoost</td>\n",
       "      <td>0.166</td>\n",
       "      <td>5.400000e-02</td>\n",
       "      <td>0.232</td>\n",
       "      <td>9.330000e-01</td>\n",
       "      <td>9.270000e-01</td>\n",
       "    </tr>\n",
       "    <tr>\n",
       "      <td>5</td>\n",
       "      <td>XGBoost2</td>\n",
       "      <td>0.130</td>\n",
       "      <td>3.300000e-02</td>\n",
       "      <td>0.183</td>\n",
       "      <td>9.580000e-01</td>\n",
       "      <td>9.420000e-01</td>\n",
       "    </tr>\n",
       "  </tbody>\n",
       "</table>\n",
       "</div>"
      ],
      "text/plain": [
       "                   Model          MAE           MSE         RMSE  \\\n",
       "0      Linear Regression        0.281  1.380000e-01        0.372   \n",
       "1  RandomForestRegressor        0.057  7.000000e-03        0.083   \n",
       "2  Polynomial Regression  5795374.048  6.154576e+13  7845110.591   \n",
       "3                  Ridge        0.281  1.380000e-01        0.372   \n",
       "4                XGBoost        0.166  5.400000e-02        0.232   \n",
       "5               XGBoost2        0.130  3.300000e-02        0.183   \n",
       "\n",
       "      R2 Square  Cross Validation  \n",
       "0  8.270000e-01      8.260000e-01  \n",
       "1  9.910000e-01      9.380000e-01  \n",
       "2 -7.712202e+13     -3.811085e+20  \n",
       "3  8.270000e-01      8.260000e-01  \n",
       "4  9.330000e-01      9.270000e-01  \n",
       "5  9.580000e-01      9.420000e-01  "
      ]
     },
     "execution_count": 164,
     "metadata": {},
     "output_type": "execute_result"
    }
   ],
   "source": [
    "results_df=results_df.append(pd.DataFrame(data=[['XGBoost2', *evaluate(y_train, train_pred), cross_score]], columns=['Model', 'MAE', 'MSE', 'RMSE', 'R2 Square', 'Cross Validation']), ignore_index=True)\n",
    "results_df"
   ]
  },
  {
   "cell_type": "code",
   "execution_count": 165,
   "metadata": {},
   "outputs": [
    {
     "data": {
      "text/plain": [
       "GradientBoostingRegressor()"
      ]
     },
     "execution_count": 165,
     "metadata": {},
     "output_type": "execute_result"
    }
   ],
   "source": [
    "from sklearn.ensemble import GradientBoostingRegressor\n",
    "gbrt = GradientBoostingRegressor()\n",
    "gbrt.fit(X_train, y_train)"
   ]
  },
  {
   "cell_type": "code",
   "execution_count": 166,
   "metadata": {},
   "outputs": [
    {
     "name": "stdout",
     "output_type": "stream",
     "text": [
      "Train set evaluation:\n",
      "\n",
      "MAE:  0.195\n",
      "MSE:  0.072\n",
      "RMSE:  0.268\n",
      "R2 Score: 0.91\n",
      "--------------------------------\n",
      "\n",
      "Cross_validation score:\n",
      "\n"
     ]
    },
    {
     "data": {
      "text/plain": [
       "0.908"
      ]
     },
     "execution_count": 166,
     "metadata": {},
     "output_type": "execute_result"
    }
   ],
   "source": [
    "train_pred=gbrt.predict(X_train)\n",
    "\n",
    "print('Train set evaluation:\\n')\n",
    "print_evaluate(y_train, train_pred)\n",
    "print('--------------------------------\\n')\n",
    "cross_score=cross_val(gbrt, X_train, y_train)\n",
    "print('Cross_validation score:\\n')\n",
    "cross_score"
   ]
  },
  {
   "cell_type": "code",
   "execution_count": 167,
   "metadata": {
    "scrolled": true
   },
   "outputs": [
    {
     "data": {
      "text/html": [
       "<div>\n",
       "<style scoped>\n",
       "    .dataframe tbody tr th:only-of-type {\n",
       "        vertical-align: middle;\n",
       "    }\n",
       "\n",
       "    .dataframe tbody tr th {\n",
       "        vertical-align: top;\n",
       "    }\n",
       "\n",
       "    .dataframe thead th {\n",
       "        text-align: right;\n",
       "    }\n",
       "</style>\n",
       "<table border=\"1\" class=\"dataframe\">\n",
       "  <thead>\n",
       "    <tr style=\"text-align: right;\">\n",
       "      <th></th>\n",
       "      <th>Model</th>\n",
       "      <th>MAE</th>\n",
       "      <th>MSE</th>\n",
       "      <th>RMSE</th>\n",
       "      <th>R2 Square</th>\n",
       "      <th>Cross Validation</th>\n",
       "    </tr>\n",
       "  </thead>\n",
       "  <tbody>\n",
       "    <tr>\n",
       "      <td>0</td>\n",
       "      <td>Linear Regression</td>\n",
       "      <td>0.281</td>\n",
       "      <td>1.380000e-01</td>\n",
       "      <td>0.372</td>\n",
       "      <td>8.270000e-01</td>\n",
       "      <td>8.260000e-01</td>\n",
       "    </tr>\n",
       "    <tr>\n",
       "      <td>1</td>\n",
       "      <td>RandomForestRegressor</td>\n",
       "      <td>0.057</td>\n",
       "      <td>7.000000e-03</td>\n",
       "      <td>0.083</td>\n",
       "      <td>9.910000e-01</td>\n",
       "      <td>9.380000e-01</td>\n",
       "    </tr>\n",
       "    <tr>\n",
       "      <td>2</td>\n",
       "      <td>Polynomial Regression</td>\n",
       "      <td>5795374.048</td>\n",
       "      <td>6.154576e+13</td>\n",
       "      <td>7845110.591</td>\n",
       "      <td>-7.712202e+13</td>\n",
       "      <td>-3.811085e+20</td>\n",
       "    </tr>\n",
       "    <tr>\n",
       "      <td>3</td>\n",
       "      <td>Ridge</td>\n",
       "      <td>0.281</td>\n",
       "      <td>1.380000e-01</td>\n",
       "      <td>0.372</td>\n",
       "      <td>8.270000e-01</td>\n",
       "      <td>8.260000e-01</td>\n",
       "    </tr>\n",
       "    <tr>\n",
       "      <td>4</td>\n",
       "      <td>XGBoost</td>\n",
       "      <td>0.166</td>\n",
       "      <td>5.400000e-02</td>\n",
       "      <td>0.232</td>\n",
       "      <td>9.330000e-01</td>\n",
       "      <td>9.270000e-01</td>\n",
       "    </tr>\n",
       "    <tr>\n",
       "      <td>5</td>\n",
       "      <td>XGBoost2</td>\n",
       "      <td>0.130</td>\n",
       "      <td>3.300000e-02</td>\n",
       "      <td>0.183</td>\n",
       "      <td>9.580000e-01</td>\n",
       "      <td>9.420000e-01</td>\n",
       "    </tr>\n",
       "    <tr>\n",
       "      <td>6</td>\n",
       "      <td>Gradient boosting</td>\n",
       "      <td>0.195</td>\n",
       "      <td>7.200000e-02</td>\n",
       "      <td>0.268</td>\n",
       "      <td>9.100000e-01</td>\n",
       "      <td>9.080000e-01</td>\n",
       "    </tr>\n",
       "  </tbody>\n",
       "</table>\n",
       "</div>"
      ],
      "text/plain": [
       "                   Model          MAE           MSE         RMSE  \\\n",
       "0      Linear Regression        0.281  1.380000e-01        0.372   \n",
       "1  RandomForestRegressor        0.057  7.000000e-03        0.083   \n",
       "2  Polynomial Regression  5795374.048  6.154576e+13  7845110.591   \n",
       "3                  Ridge        0.281  1.380000e-01        0.372   \n",
       "4                XGBoost        0.166  5.400000e-02        0.232   \n",
       "5               XGBoost2        0.130  3.300000e-02        0.183   \n",
       "6      Gradient boosting        0.195  7.200000e-02        0.268   \n",
       "\n",
       "      R2 Square  Cross Validation  \n",
       "0  8.270000e-01      8.260000e-01  \n",
       "1  9.910000e-01      9.380000e-01  \n",
       "2 -7.712202e+13     -3.811085e+20  \n",
       "3  8.270000e-01      8.260000e-01  \n",
       "4  9.330000e-01      9.270000e-01  \n",
       "5  9.580000e-01      9.420000e-01  \n",
       "6  9.100000e-01      9.080000e-01  "
      ]
     },
     "execution_count": 167,
     "metadata": {},
     "output_type": "execute_result"
    }
   ],
   "source": [
    "results_df=results_df.append(pd.DataFrame(data=[['Gradient boosting', *evaluate(y_train, train_pred), cross_score]], columns=['Model', 'MAE', 'MSE', 'RMSE', 'R2 Square', 'Cross Validation']), ignore_index=True)\n",
    "results_df"
   ]
  },
  {
   "cell_type": "code",
   "execution_count": 87,
   "metadata": {},
   "outputs": [
    {
     "name": "stdout",
     "output_type": "stream",
     "text": [
      "Train set evaluation:\n",
      "\n",
      "MAE:  0.053\n",
      "MSE:  0.006\n",
      "RMSE:  0.078\n",
      "R2 Score: 0.992\n",
      "--------------------------------\n",
      "\n",
      "Cross_validation score:\n",
      "\n"
     ]
    },
    {
     "data": {
      "text/plain": [
       "0.944"
      ]
     },
     "execution_count": 87,
     "metadata": {},
     "output_type": "execute_result"
    }
   ],
   "source": [
    "from sklearn.ensemble import RandomForestRegressor\n",
    "rfr=RandomForestRegressor()\n",
    "rfr.fit(X_train, y_train)\n",
    "\n",
    "train_pred=rfr.predict(X_train)\n",
    "\n",
    "print('Train set evaluation:\\n')\n",
    "print_evaluate(y_train, train_pred)\n",
    "print('--------------------------------\\n')\n",
    "cross_score=cross_val(rfr, X_train, y_train)\n",
    "print('Cross_validation score:\\n')\n",
    "cross_score"
   ]
  },
  {
   "cell_type": "code",
   "execution_count": 168,
   "metadata": {},
   "outputs": [
    {
     "name": "stdout",
     "output_type": "stream",
     "text": [
      "Train set evaluation:\n",
      "\n",
      "MAE:  0.288\n",
      "MSE:  0.149\n",
      "RMSE:  0.387\n",
      "R2 Score: 0.813\n",
      "--------------------------------\n",
      "\n",
      "Cross_validation score:\n",
      "\n"
     ]
    },
    {
     "data": {
      "text/plain": [
       "0.801"
      ]
     },
     "execution_count": 168,
     "metadata": {},
     "output_type": "execute_result"
    }
   ],
   "source": [
    "from sklearn.linear_model import RANSACRegressor\n",
    "rsc=RANSACRegressor()\n",
    "rsc.fit(X_train, y_train)\n",
    "\n",
    "train_pred=rsc.predict(X_train)\n",
    "\n",
    "print('Train set evaluation:\\n')\n",
    "print_evaluate(y_train, train_pred)\n",
    "print('--------------------------------\\n')\n",
    "cross_score=cross_val(rsc, X_train, y_train)\n",
    "print('Cross_validation score:\\n')\n",
    "cross_score"
   ]
  },
  {
   "cell_type": "code",
   "execution_count": 169,
   "metadata": {},
   "outputs": [
    {
     "data": {
      "text/plain": [
       "XGBRegressor(base_score=0.5, booster='gbtree', colsample_bylevel=1,\n",
       "             colsample_bynode=1, colsample_bytree=1, enable_categorical=False,\n",
       "             gamma=0, gpu_id=-1, importance_type=None,\n",
       "             interaction_constraints='', learning_rate=0.300000012,\n",
       "             max_delta_step=0, max_depth=6, min_child_weight=1, missing=nan,\n",
       "             monotone_constraints='()', n_estimators=500, n_jobs=4,\n",
       "             num_parallel_tree=1, predictor='auto', random_state=0, reg_alpha=0,\n",
       "             reg_lambda=1, scale_pos_weight=1, subsample=1, tree_method='exact',\n",
       "             validate_parameters=1, verbosity=None)"
      ]
     },
     "execution_count": 169,
     "metadata": {},
     "output_type": "execute_result"
    }
   ],
   "source": [
    "xb3 = xgb.XGBRegressor(n_estimators = 500)\n",
    "xb3.fit(X_train, y_train)"
   ]
  },
  {
   "cell_type": "code",
   "execution_count": 94,
   "metadata": {},
   "outputs": [
    {
     "name": "stdout",
     "output_type": "stream",
     "text": [
      "Train set evaluation:\n",
      "\n",
      "MAE:  0.074\n",
      "MSE:  0.011\n",
      "RMSE:  0.104\n",
      "R2 Score: 0.987\n",
      "--------------------------------\n",
      "\n",
      "Cross_validation score:\n",
      "\n"
     ]
    },
    {
     "data": {
      "text/plain": [
       "0.953"
      ]
     },
     "execution_count": 94,
     "metadata": {},
     "output_type": "execute_result"
    }
   ],
   "source": [
    "train_pred=xb3.predict(X_train)\n",
    "\n",
    "print('Train set evaluation:\\n')\n",
    "print_evaluate(y_train, train_pred)\n",
    "print('--------------------------------\\n')\n",
    "cross_score=cross_val(xb3, X_train, y_train)\n",
    "print('Cross_validation score:\\n')\n",
    "cross_score"
   ]
  },
  {
   "cell_type": "code",
   "execution_count": 170,
   "metadata": {},
   "outputs": [
    {
     "data": {
      "text/html": [
       "<div>\n",
       "<style scoped>\n",
       "    .dataframe tbody tr th:only-of-type {\n",
       "        vertical-align: middle;\n",
       "    }\n",
       "\n",
       "    .dataframe tbody tr th {\n",
       "        vertical-align: top;\n",
       "    }\n",
       "\n",
       "    .dataframe thead th {\n",
       "        text-align: right;\n",
       "    }\n",
       "</style>\n",
       "<table border=\"1\" class=\"dataframe\">\n",
       "  <thead>\n",
       "    <tr style=\"text-align: right;\">\n",
       "      <th></th>\n",
       "      <th>Model</th>\n",
       "      <th>MAE</th>\n",
       "      <th>MSE</th>\n",
       "      <th>RMSE</th>\n",
       "      <th>R2 Square</th>\n",
       "      <th>Cross Validation</th>\n",
       "    </tr>\n",
       "  </thead>\n",
       "  <tbody>\n",
       "    <tr>\n",
       "      <td>0</td>\n",
       "      <td>Linear Regression</td>\n",
       "      <td>0.281</td>\n",
       "      <td>1.380000e-01</td>\n",
       "      <td>0.372</td>\n",
       "      <td>8.270000e-01</td>\n",
       "      <td>8.260000e-01</td>\n",
       "    </tr>\n",
       "    <tr>\n",
       "      <td>1</td>\n",
       "      <td>RandomForestRegressor</td>\n",
       "      <td>0.057</td>\n",
       "      <td>7.000000e-03</td>\n",
       "      <td>0.083</td>\n",
       "      <td>9.910000e-01</td>\n",
       "      <td>9.380000e-01</td>\n",
       "    </tr>\n",
       "    <tr>\n",
       "      <td>2</td>\n",
       "      <td>Polynomial Regression</td>\n",
       "      <td>5795374.048</td>\n",
       "      <td>6.154576e+13</td>\n",
       "      <td>7845110.591</td>\n",
       "      <td>-7.712202e+13</td>\n",
       "      <td>-3.811085e+20</td>\n",
       "    </tr>\n",
       "    <tr>\n",
       "      <td>3</td>\n",
       "      <td>Ridge</td>\n",
       "      <td>0.281</td>\n",
       "      <td>1.380000e-01</td>\n",
       "      <td>0.372</td>\n",
       "      <td>8.270000e-01</td>\n",
       "      <td>8.260000e-01</td>\n",
       "    </tr>\n",
       "    <tr>\n",
       "      <td>4</td>\n",
       "      <td>XGBoost</td>\n",
       "      <td>0.166</td>\n",
       "      <td>5.400000e-02</td>\n",
       "      <td>0.232</td>\n",
       "      <td>9.330000e-01</td>\n",
       "      <td>9.270000e-01</td>\n",
       "    </tr>\n",
       "    <tr>\n",
       "      <td>5</td>\n",
       "      <td>XGBoost2</td>\n",
       "      <td>0.130</td>\n",
       "      <td>3.300000e-02</td>\n",
       "      <td>0.183</td>\n",
       "      <td>9.580000e-01</td>\n",
       "      <td>9.420000e-01</td>\n",
       "    </tr>\n",
       "    <tr>\n",
       "      <td>6</td>\n",
       "      <td>Gradient boosting</td>\n",
       "      <td>0.195</td>\n",
       "      <td>7.200000e-02</td>\n",
       "      <td>0.268</td>\n",
       "      <td>9.100000e-01</td>\n",
       "      <td>9.080000e-01</td>\n",
       "    </tr>\n",
       "    <tr>\n",
       "      <td>7</td>\n",
       "      <td>XGBoost3</td>\n",
       "      <td>0.288</td>\n",
       "      <td>1.490000e-01</td>\n",
       "      <td>0.387</td>\n",
       "      <td>8.130000e-01</td>\n",
       "      <td>8.010000e-01</td>\n",
       "    </tr>\n",
       "  </tbody>\n",
       "</table>\n",
       "</div>"
      ],
      "text/plain": [
       "                   Model          MAE           MSE         RMSE  \\\n",
       "0      Linear Regression        0.281  1.380000e-01        0.372   \n",
       "1  RandomForestRegressor        0.057  7.000000e-03        0.083   \n",
       "2  Polynomial Regression  5795374.048  6.154576e+13  7845110.591   \n",
       "3                  Ridge        0.281  1.380000e-01        0.372   \n",
       "4                XGBoost        0.166  5.400000e-02        0.232   \n",
       "5               XGBoost2        0.130  3.300000e-02        0.183   \n",
       "6      Gradient boosting        0.195  7.200000e-02        0.268   \n",
       "7               XGBoost3        0.288  1.490000e-01        0.387   \n",
       "\n",
       "      R2 Square  Cross Validation  \n",
       "0  8.270000e-01      8.260000e-01  \n",
       "1  9.910000e-01      9.380000e-01  \n",
       "2 -7.712202e+13     -3.811085e+20  \n",
       "3  8.270000e-01      8.260000e-01  \n",
       "4  9.330000e-01      9.270000e-01  \n",
       "5  9.580000e-01      9.420000e-01  \n",
       "6  9.100000e-01      9.080000e-01  \n",
       "7  8.130000e-01      8.010000e-01  "
      ]
     },
     "execution_count": 170,
     "metadata": {},
     "output_type": "execute_result"
    }
   ],
   "source": [
    "results_df=results_df.append(pd.DataFrame(data=[['XGBoost3', *evaluate(y_train, train_pred), cross_score]], columns=['Model', 'MAE', 'MSE', 'RMSE', 'R2 Square', 'Cross Validation']), ignore_index=True)\n",
    "results_df"
   ]
  },
  {
   "cell_type": "code",
   "execution_count": 174,
   "metadata": {},
   "outputs": [
    {
     "name": "stdout",
     "output_type": "stream",
     "text": [
      "Train set evaluation:\n",
      "\n",
      "MAE:  0.145\n",
      "MSE:  0.045\n",
      "RMSE:  0.212\n",
      "R2 Score: 0.942\n"
     ]
    }
   ],
   "source": [
    "train_pred=xb3.predict(X_test)\n",
    "\n",
    "print('Train set evaluation:\\n')\n",
    "print_evaluate(y_test, train_pred)"
   ]
  },
  {
   "cell_type": "code",
   "execution_count": 173,
   "metadata": {},
   "outputs": [
    {
     "name": "stdout",
     "output_type": "stream",
     "text": [
      "Train set evaluation:\n",
      "\n",
      "MAE:  0.152\n",
      "MSE:  0.047\n",
      "RMSE:  0.218\n",
      "R2 Score: 0.939\n"
     ]
    }
   ],
   "source": [
    "train_pred=xb2.predict(X_test)\n",
    "\n",
    "print('Train set evaluation:\\n')\n",
    "print_evaluate(y_test, train_pred)"
   ]
  },
  {
   "cell_type": "code",
   "execution_count": 177,
   "metadata": {},
   "outputs": [],
   "source": [
    "predicted_price = np.expm1(rfr.predict(test_data))"
   ]
  },
  {
   "cell_type": "code",
   "execution_count": 178,
   "metadata": {},
   "outputs": [],
   "source": [
    "output = pd.DataFrame({'Id': range(40509, 40509 + len(test_data)),\n",
    "      'Price': predicted_price})\n",
    "output.to_csv('submission.csv', index=False)"
   ]
  }
 ],
 "metadata": {
  "kernelspec": {
   "display_name": "Python 3 (ipykernel)",
   "language": "python",
   "name": "python3"
  },
  "language_info": {
   "codemirror_mode": {
    "name": "ipython",
    "version": 3
   },
   "file_extension": ".py",
   "mimetype": "text/x-python",
   "name": "python",
   "nbconvert_exporter": "python",
   "pygments_lexer": "ipython3",
   "version": "3.9.7"
  }
 },
 "nbformat": 4,
 "nbformat_minor": 2
}
